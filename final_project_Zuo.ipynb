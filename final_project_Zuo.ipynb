{
  "nbformat": 4,
  "nbformat_minor": 0,
  "metadata": {
    "colab": {
      "name": "final_project_Zuo.ipynb",
      "provenance": [],
      "collapsed_sections": [],
      "authorship_tag": "ABX9TyObdlMNQ1dhxY1WRaoi9j29",
      "include_colab_link": true
    },
    "kernelspec": {
      "name": "python3",
      "display_name": "Python 3"
    },
    "language_info": {
      "name": "python"
    }
  },
  "cells": [
    {
      "cell_type": "markdown",
      "metadata": {
        "id": "view-in-github",
        "colab_type": "text"
      },
      "source": [
        "<a href=\"https://colab.research.google.com/github/zuozuo11/final/blob/main/final_project_Zuo.ipynb\" target=\"_parent\"><img src=\"https://colab.research.google.com/assets/colab-badge.svg\" alt=\"Open In Colab\"/></a>"
      ]
    },
    {
      "cell_type": "code",
      "execution_count": null,
      "metadata": {
        "id": "3JQvL-zMhCNa",
        "colab": {
          "base_uri": "https://localhost:8080/"
        },
        "outputId": "579f4538-a05c-4589-9763-969b3dfa1690"
      },
      "outputs": [
        {
          "output_type": "stream",
          "name": "stderr",
          "text": [
            "/usr/local/lib/python3.7/dist-packages/statsmodels/tools/_testing.py:19: FutureWarning: pandas.util.testing is deprecated. Use the functions in the public API at pandas.testing instead.\n",
            "  import pandas.util.testing as tm\n"
          ]
        }
      ],
      "source": [
        "import pandas as pd\n",
        "import numpy as np\n",
        "import matplotlib.pyplot as plt\n",
        "from sklearn.model_selection import train_test_split\n",
        "from category_encoders import OrdinalEncoder\n",
        "from xgboost import XGBClassifier\n",
        "from sklearn.ensemble import AdaBoostClassifier\n",
        "from sklearn.ensemble import GradientBoostingClassifier\n",
        "\n",
        "from sklearn.metrics import classification_report, confusion_matrix\n",
        "from sklearn.metrics import roc_curve\n",
        "from sklearn.metrics import auc\n",
        "from sklearn.metrics import roc_auc_score\n",
        "from sklearn.metrics import accuracy_score\n",
        "from sklearn.metrics import precision_score\n",
        "from sklearn.metrics import f1_score\n",
        "from sklearn.metrics import recall_score\n",
        "from sklearn.metrics import confusion_matrix\n",
        "\n",
        "from sklearn.model_selection import GridSearchCV\n",
        "from collections import Counter\n",
        "from sklearn import metrics\n",
        "\n",
        "from imblearn.over_sampling import SMOTE\n",
        "from google.colab import files\n",
        "import io\n",
        "\n",
        "from imblearn.under_sampling import RandomUnderSampler\n",
        "from xgboost import plot_importance"
      ]
    },
    {
      "cell_type": "code",
      "source": [
        "pip install category_encoders"
      ],
      "metadata": {
        "colab": {
          "base_uri": "https://localhost:8080/"
        },
        "id": "jJlGFqqnYTGP",
        "outputId": "83a606b0-fc6d-4db3-8fa8-85da79be3036"
      },
      "execution_count": null,
      "outputs": [
        {
          "output_type": "stream",
          "name": "stdout",
          "text": [
            "Collecting category_encoders\n",
            "  Downloading category_encoders-2.4.0-py2.py3-none-any.whl (86 kB)\n",
            "\u001b[?25l\r\u001b[K     |███▉                            | 10 kB 17.8 MB/s eta 0:00:01\r\u001b[K     |███████▋                        | 20 kB 21.6 MB/s eta 0:00:01\r\u001b[K     |███████████▍                    | 30 kB 24.5 MB/s eta 0:00:01\r\u001b[K     |███████████████▏                | 40 kB 9.3 MB/s eta 0:00:01\r\u001b[K     |███████████████████             | 51 kB 10.7 MB/s eta 0:00:01\r\u001b[K     |██████████████████████▊         | 61 kB 12.3 MB/s eta 0:00:01\r\u001b[K     |██████████████████████████▌     | 71 kB 13.6 MB/s eta 0:00:01\r\u001b[K     |██████████████████████████████▎ | 81 kB 14.6 MB/s eta 0:00:01\r\u001b[K     |████████████████████████████████| 86 kB 3.0 MB/s \n",
            "\u001b[?25hRequirement already satisfied: patsy>=0.5.1 in /usr/local/lib/python3.7/dist-packages (from category_encoders) (0.5.2)\n",
            "Requirement already satisfied: statsmodels>=0.9.0 in /usr/local/lib/python3.7/dist-packages (from category_encoders) (0.10.2)\n",
            "Requirement already satisfied: scikit-learn>=0.20.0 in /usr/local/lib/python3.7/dist-packages (from category_encoders) (1.0.2)\n",
            "Requirement already satisfied: numpy>=1.14.0 in /usr/local/lib/python3.7/dist-packages (from category_encoders) (1.21.6)\n",
            "Requirement already satisfied: scipy>=1.0.0 in /usr/local/lib/python3.7/dist-packages (from category_encoders) (1.4.1)\n",
            "Requirement already satisfied: pandas>=0.21.1 in /usr/local/lib/python3.7/dist-packages (from category_encoders) (1.3.5)\n",
            "Requirement already satisfied: pytz>=2017.3 in /usr/local/lib/python3.7/dist-packages (from pandas>=0.21.1->category_encoders) (2022.1)\n",
            "Requirement already satisfied: python-dateutil>=2.7.3 in /usr/local/lib/python3.7/dist-packages (from pandas>=0.21.1->category_encoders) (2.8.2)\n",
            "Requirement already satisfied: six in /usr/local/lib/python3.7/dist-packages (from patsy>=0.5.1->category_encoders) (1.15.0)\n",
            "Requirement already satisfied: joblib>=0.11 in /usr/local/lib/python3.7/dist-packages (from scikit-learn>=0.20.0->category_encoders) (1.1.0)\n",
            "Requirement already satisfied: threadpoolctl>=2.0.0 in /usr/local/lib/python3.7/dist-packages (from scikit-learn>=0.20.0->category_encoders) (3.1.0)\n",
            "Installing collected packages: category-encoders\n",
            "Successfully installed category-encoders-2.4.0\n"
          ]
        }
      ]
    },
    {
      "cell_type": "code",
      "source": [
        "uploaded = files.upload()"
      ],
      "metadata": {
        "colab": {
          "resources": {
            "http://localhost:8080/nbextensions/google.colab/files.js": {
              "data": "Ly8gQ29weXJpZ2h0IDIwMTcgR29vZ2xlIExMQwovLwovLyBMaWNlbnNlZCB1bmRlciB0aGUgQXBhY2hlIExpY2Vuc2UsIFZlcnNpb24gMi4wICh0aGUgIkxpY2Vuc2UiKTsKLy8geW91IG1heSBub3QgdXNlIHRoaXMgZmlsZSBleGNlcHQgaW4gY29tcGxpYW5jZSB3aXRoIHRoZSBMaWNlbnNlLgovLyBZb3UgbWF5IG9idGFpbiBhIGNvcHkgb2YgdGhlIExpY2Vuc2UgYXQKLy8KLy8gICAgICBodHRwOi8vd3d3LmFwYWNoZS5vcmcvbGljZW5zZXMvTElDRU5TRS0yLjAKLy8KLy8gVW5sZXNzIHJlcXVpcmVkIGJ5IGFwcGxpY2FibGUgbGF3IG9yIGFncmVlZCB0byBpbiB3cml0aW5nLCBzb2Z0d2FyZQovLyBkaXN0cmlidXRlZCB1bmRlciB0aGUgTGljZW5zZSBpcyBkaXN0cmlidXRlZCBvbiBhbiAiQVMgSVMiIEJBU0lTLAovLyBXSVRIT1VUIFdBUlJBTlRJRVMgT1IgQ09ORElUSU9OUyBPRiBBTlkgS0lORCwgZWl0aGVyIGV4cHJlc3Mgb3IgaW1wbGllZC4KLy8gU2VlIHRoZSBMaWNlbnNlIGZvciB0aGUgc3BlY2lmaWMgbGFuZ3VhZ2UgZ292ZXJuaW5nIHBlcm1pc3Npb25zIGFuZAovLyBsaW1pdGF0aW9ucyB1bmRlciB0aGUgTGljZW5zZS4KCi8qKgogKiBAZmlsZW92ZXJ2aWV3IEhlbHBlcnMgZm9yIGdvb2dsZS5jb2xhYiBQeXRob24gbW9kdWxlLgogKi8KKGZ1bmN0aW9uKHNjb3BlKSB7CmZ1bmN0aW9uIHNwYW4odGV4dCwgc3R5bGVBdHRyaWJ1dGVzID0ge30pIHsKICBjb25zdCBlbGVtZW50ID0gZG9jdW1lbnQuY3JlYXRlRWxlbWVudCgnc3BhbicpOwogIGVsZW1lbnQudGV4dENvbnRlbnQgPSB0ZXh0OwogIGZvciAoY29uc3Qga2V5IG9mIE9iamVjdC5rZXlzKHN0eWxlQXR0cmlidXRlcykpIHsKICAgIGVsZW1lbnQuc3R5bGVba2V5XSA9IHN0eWxlQXR0cmlidXRlc1trZXldOwogIH0KICByZXR1cm4gZWxlbWVudDsKfQoKLy8gTWF4IG51bWJlciBvZiBieXRlcyB3aGljaCB3aWxsIGJlIHVwbG9hZGVkIGF0IGEgdGltZS4KY29uc3QgTUFYX1BBWUxPQURfU0laRSA9IDEwMCAqIDEwMjQ7CgpmdW5jdGlvbiBfdXBsb2FkRmlsZXMoaW5wdXRJZCwgb3V0cHV0SWQpIHsKICBjb25zdCBzdGVwcyA9IHVwbG9hZEZpbGVzU3RlcChpbnB1dElkLCBvdXRwdXRJZCk7CiAgY29uc3Qgb3V0cHV0RWxlbWVudCA9IGRvY3VtZW50LmdldEVsZW1lbnRCeUlkKG91dHB1dElkKTsKICAvLyBDYWNoZSBzdGVwcyBvbiB0aGUgb3V0cHV0RWxlbWVudCB0byBtYWtlIGl0IGF2YWlsYWJsZSBmb3IgdGhlIG5leHQgY2FsbAogIC8vIHRvIHVwbG9hZEZpbGVzQ29udGludWUgZnJvbSBQeXRob24uCiAgb3V0cHV0RWxlbWVudC5zdGVwcyA9IHN0ZXBzOwoKICByZXR1cm4gX3VwbG9hZEZpbGVzQ29udGludWUob3V0cHV0SWQpOwp9CgovLyBUaGlzIGlzIHJvdWdobHkgYW4gYXN5bmMgZ2VuZXJhdG9yIChub3Qgc3VwcG9ydGVkIGluIHRoZSBicm93c2VyIHlldCksCi8vIHdoZXJlIHRoZXJlIGFyZSBtdWx0aXBsZSBhc3luY2hyb25vdXMgc3RlcHMgYW5kIHRoZSBQeXRob24gc2lkZSBpcyBnb2luZwovLyB0byBwb2xsIGZvciBjb21wbGV0aW9uIG9mIGVhY2ggc3RlcC4KLy8gVGhpcyB1c2VzIGEgUHJvbWlzZSB0byBibG9jayB0aGUgcHl0aG9uIHNpZGUgb24gY29tcGxldGlvbiBvZiBlYWNoIHN0ZXAsCi8vIHRoZW4gcGFzc2VzIHRoZSByZXN1bHQgb2YgdGhlIHByZXZpb3VzIHN0ZXAgYXMgdGhlIGlucHV0IHRvIHRoZSBuZXh0IHN0ZXAuCmZ1bmN0aW9uIF91cGxvYWRGaWxlc0NvbnRpbnVlKG91dHB1dElkKSB7CiAgY29uc3Qgb3V0cHV0RWxlbWVudCA9IGRvY3VtZW50LmdldEVsZW1lbnRCeUlkKG91dHB1dElkKTsKICBjb25zdCBzdGVwcyA9IG91dHB1dEVsZW1lbnQuc3RlcHM7CgogIGNvbnN0IG5leHQgPSBzdGVwcy5uZXh0KG91dHB1dEVsZW1lbnQubGFzdFByb21pc2VWYWx1ZSk7CiAgcmV0dXJuIFByb21pc2UucmVzb2x2ZShuZXh0LnZhbHVlLnByb21pc2UpLnRoZW4oKHZhbHVlKSA9PiB7CiAgICAvLyBDYWNoZSB0aGUgbGFzdCBwcm9taXNlIHZhbHVlIHRvIG1ha2UgaXQgYXZhaWxhYmxlIHRvIHRoZSBuZXh0CiAgICAvLyBzdGVwIG9mIHRoZSBnZW5lcmF0b3IuCiAgICBvdXRwdXRFbGVtZW50Lmxhc3RQcm9taXNlVmFsdWUgPSB2YWx1ZTsKICAgIHJldHVybiBuZXh0LnZhbHVlLnJlc3BvbnNlOwogIH0pOwp9CgovKioKICogR2VuZXJhdG9yIGZ1bmN0aW9uIHdoaWNoIGlzIGNhbGxlZCBiZXR3ZWVuIGVhY2ggYXN5bmMgc3RlcCBvZiB0aGUgdXBsb2FkCiAqIHByb2Nlc3MuCiAqIEBwYXJhbSB7c3RyaW5nfSBpbnB1dElkIEVsZW1lbnQgSUQgb2YgdGhlIGlucHV0IGZpbGUgcGlja2VyIGVsZW1lbnQuCiAqIEBwYXJhbSB7c3RyaW5nfSBvdXRwdXRJZCBFbGVtZW50IElEIG9mIHRoZSBvdXRwdXQgZGlzcGxheS4KICogQHJldHVybiB7IUl0ZXJhYmxlPCFPYmplY3Q+fSBJdGVyYWJsZSBvZiBuZXh0IHN0ZXBzLgogKi8KZnVuY3Rpb24qIHVwbG9hZEZpbGVzU3RlcChpbnB1dElkLCBvdXRwdXRJZCkgewogIGNvbnN0IGlucHV0RWxlbWVudCA9IGRvY3VtZW50LmdldEVsZW1lbnRCeUlkKGlucHV0SWQpOwogIGlucHV0RWxlbWVudC5kaXNhYmxlZCA9IGZhbHNlOwoKICBjb25zdCBvdXRwdXRFbGVtZW50ID0gZG9jdW1lbnQuZ2V0RWxlbWVudEJ5SWQob3V0cHV0SWQpOwogIG91dHB1dEVsZW1lbnQuaW5uZXJIVE1MID0gJyc7CgogIGNvbnN0IHBpY2tlZFByb21pc2UgPSBuZXcgUHJvbWlzZSgocmVzb2x2ZSkgPT4gewogICAgaW5wdXRFbGVtZW50LmFkZEV2ZW50TGlzdGVuZXIoJ2NoYW5nZScsIChlKSA9PiB7CiAgICAgIHJlc29sdmUoZS50YXJnZXQuZmlsZXMpOwogICAgfSk7CiAgfSk7CgogIGNvbnN0IGNhbmNlbCA9IGRvY3VtZW50LmNyZWF0ZUVsZW1lbnQoJ2J1dHRvbicpOwogIGlucHV0RWxlbWVudC5wYXJlbnRFbGVtZW50LmFwcGVuZENoaWxkKGNhbmNlbCk7CiAgY2FuY2VsLnRleHRDb250ZW50ID0gJ0NhbmNlbCB1cGxvYWQnOwogIGNvbnN0IGNhbmNlbFByb21pc2UgPSBuZXcgUHJvbWlzZSgocmVzb2x2ZSkgPT4gewogICAgY2FuY2VsLm9uY2xpY2sgPSAoKSA9PiB7CiAgICAgIHJlc29sdmUobnVsbCk7CiAgICB9OwogIH0pOwoKICAvLyBXYWl0IGZvciB0aGUgdXNlciB0byBwaWNrIHRoZSBmaWxlcy4KICBjb25zdCBmaWxlcyA9IHlpZWxkIHsKICAgIHByb21pc2U6IFByb21pc2UucmFjZShbcGlja2VkUHJvbWlzZSwgY2FuY2VsUHJvbWlzZV0pLAogICAgcmVzcG9uc2U6IHsKICAgICAgYWN0aW9uOiAnc3RhcnRpbmcnLAogICAgfQogIH07CgogIGNhbmNlbC5yZW1vdmUoKTsKCiAgLy8gRGlzYWJsZSB0aGUgaW5wdXQgZWxlbWVudCBzaW5jZSBmdXJ0aGVyIHBpY2tzIGFyZSBub3QgYWxsb3dlZC4KICBpbnB1dEVsZW1lbnQuZGlzYWJsZWQgPSB0cnVlOwoKICBpZiAoIWZpbGVzKSB7CiAgICByZXR1cm4gewogICAgICByZXNwb25zZTogewogICAgICAgIGFjdGlvbjogJ2NvbXBsZXRlJywKICAgICAgfQogICAgfTsKICB9CgogIGZvciAoY29uc3QgZmlsZSBvZiBmaWxlcykgewogICAgY29uc3QgbGkgPSBkb2N1bWVudC5jcmVhdGVFbGVtZW50KCdsaScpOwogICAgbGkuYXBwZW5kKHNwYW4oZmlsZS5uYW1lLCB7Zm9udFdlaWdodDogJ2JvbGQnfSkpOwogICAgbGkuYXBwZW5kKHNwYW4oCiAgICAgICAgYCgke2ZpbGUudHlwZSB8fCAnbi9hJ30pIC0gJHtmaWxlLnNpemV9IGJ5dGVzLCBgICsKICAgICAgICBgbGFzdCBtb2RpZmllZDogJHsKICAgICAgICAgICAgZmlsZS5sYXN0TW9kaWZpZWREYXRlID8gZmlsZS5sYXN0TW9kaWZpZWREYXRlLnRvTG9jYWxlRGF0ZVN0cmluZygpIDoKICAgICAgICAgICAgICAgICAgICAgICAgICAgICAgICAgICAgJ24vYSd9IC0gYCkpOwogICAgY29uc3QgcGVyY2VudCA9IHNwYW4oJzAlIGRvbmUnKTsKICAgIGxpLmFwcGVuZENoaWxkKHBlcmNlbnQpOwoKICAgIG91dHB1dEVsZW1lbnQuYXBwZW5kQ2hpbGQobGkpOwoKICAgIGNvbnN0IGZpbGVEYXRhUHJvbWlzZSA9IG5ldyBQcm9taXNlKChyZXNvbHZlKSA9PiB7CiAgICAgIGNvbnN0IHJlYWRlciA9IG5ldyBGaWxlUmVhZGVyKCk7CiAgICAgIHJlYWRlci5vbmxvYWQgPSAoZSkgPT4gewogICAgICAgIHJlc29sdmUoZS50YXJnZXQucmVzdWx0KTsKICAgICAgfTsKICAgICAgcmVhZGVyLnJlYWRBc0FycmF5QnVmZmVyKGZpbGUpOwogICAgfSk7CiAgICAvLyBXYWl0IGZvciB0aGUgZGF0YSB0byBiZSByZWFkeS4KICAgIGxldCBmaWxlRGF0YSA9IHlpZWxkIHsKICAgICAgcHJvbWlzZTogZmlsZURhdGFQcm9taXNlLAogICAgICByZXNwb25zZTogewogICAgICAgIGFjdGlvbjogJ2NvbnRpbnVlJywKICAgICAgfQogICAgfTsKCiAgICAvLyBVc2UgYSBjaHVua2VkIHNlbmRpbmcgdG8gYXZvaWQgbWVzc2FnZSBzaXplIGxpbWl0cy4gU2VlIGIvNjIxMTU2NjAuCiAgICBsZXQgcG9zaXRpb24gPSAwOwogICAgZG8gewogICAgICBjb25zdCBsZW5ndGggPSBNYXRoLm1pbihmaWxlRGF0YS5ieXRlTGVuZ3RoIC0gcG9zaXRpb24sIE1BWF9QQVlMT0FEX1NJWkUpOwogICAgICBjb25zdCBjaHVuayA9IG5ldyBVaW50OEFycmF5KGZpbGVEYXRhLCBwb3NpdGlvbiwgbGVuZ3RoKTsKICAgICAgcG9zaXRpb24gKz0gbGVuZ3RoOwoKICAgICAgY29uc3QgYmFzZTY0ID0gYnRvYShTdHJpbmcuZnJvbUNoYXJDb2RlLmFwcGx5KG51bGwsIGNodW5rKSk7CiAgICAgIHlpZWxkIHsKICAgICAgICByZXNwb25zZTogewogICAgICAgICAgYWN0aW9uOiAnYXBwZW5kJywKICAgICAgICAgIGZpbGU6IGZpbGUubmFtZSwKICAgICAgICAgIGRhdGE6IGJhc2U2NCwKICAgICAgICB9LAogICAgICB9OwoKICAgICAgbGV0IHBlcmNlbnREb25lID0gZmlsZURhdGEuYnl0ZUxlbmd0aCA9PT0gMCA/CiAgICAgICAgICAxMDAgOgogICAgICAgICAgTWF0aC5yb3VuZCgocG9zaXRpb24gLyBmaWxlRGF0YS5ieXRlTGVuZ3RoKSAqIDEwMCk7CiAgICAgIHBlcmNlbnQudGV4dENvbnRlbnQgPSBgJHtwZXJjZW50RG9uZX0lIGRvbmVgOwoKICAgIH0gd2hpbGUgKHBvc2l0aW9uIDwgZmlsZURhdGEuYnl0ZUxlbmd0aCk7CiAgfQoKICAvLyBBbGwgZG9uZS4KICB5aWVsZCB7CiAgICByZXNwb25zZTogewogICAgICBhY3Rpb246ICdjb21wbGV0ZScsCiAgICB9CiAgfTsKfQoKc2NvcGUuZ29vZ2xlID0gc2NvcGUuZ29vZ2xlIHx8IHt9OwpzY29wZS5nb29nbGUuY29sYWIgPSBzY29wZS5nb29nbGUuY29sYWIgfHwge307CnNjb3BlLmdvb2dsZS5jb2xhYi5fZmlsZXMgPSB7CiAgX3VwbG9hZEZpbGVzLAogIF91cGxvYWRGaWxlc0NvbnRpbnVlLAp9Owp9KShzZWxmKTsK",
              "ok": true,
              "headers": [
                [
                  "content-type",
                  "application/javascript"
                ]
              ],
              "status": 200,
              "status_text": ""
            }
          },
          "base_uri": "https://localhost:8080/",
          "height": 75
        },
        "id": "xZYp51TzhJvS",
        "outputId": "823abf44-54e8-4224-d29e-c692f8955068"
      },
      "execution_count": null,
      "outputs": [
        {
          "output_type": "display_data",
          "data": {
            "text/plain": [
              "<IPython.core.display.HTML object>"
            ],
            "text/html": [
              "\n",
              "     <input type=\"file\" id=\"files-27d64763-cb36-416d-a7f4-a73cbf5af312\" name=\"files[]\" multiple disabled\n",
              "        style=\"border:none\" />\n",
              "     <output id=\"result-27d64763-cb36-416d-a7f4-a73cbf5af312\">\n",
              "      Upload widget is only available when the cell has been executed in the\n",
              "      current browser session. Please rerun this cell to enable.\n",
              "      </output>\n",
              "      <script src=\"/nbextensions/google.colab/files.js\"></script> "
            ]
          },
          "metadata": {}
        },
        {
          "output_type": "stream",
          "name": "stdout",
          "text": [
            "Saving Cleaned_Data.csv to Cleaned_Data.csv\n"
          ]
        }
      ]
    },
    {
      "cell_type": "code",
      "source": [
        ""
      ],
      "metadata": {
        "id": "n4SHljpzh2R-"
      },
      "execution_count": null,
      "outputs": []
    },
    {
      "cell_type": "code",
      "source": [
        "data = pd.read_csv('/content/Cleaned_Data.csv',encoding='latin1')"
      ],
      "metadata": {
        "id": "xKJiVeCKlbeY"
      },
      "execution_count": null,
      "outputs": []
    },
    {
      "cell_type": "code",
      "source": [
        "display(data.head(5))\n",
        "display(data.describe())\n",
        "display(data.info())\n",
        "display(data.isnull().sum())"
      ],
      "metadata": {
        "colab": {
          "base_uri": "https://localhost:8080/",
          "height": 1000
        },
        "id": "a8l4sf86h5nA",
        "outputId": "a6659bd2-2a49-41d1-dd28-a8579274bf4e"
      },
      "execution_count": null,
      "outputs": [
        {
          "output_type": "display_data",
          "data": {
            "text/plain": [
              "   Census Tract  Total Population California County    ZIP  \\\n",
              "0    6001407300              2420          Alameda   94601   \n",
              "1    6001409000              4687          Alameda   94621   \n",
              "2    6001408800              7149          Alameda   94621   \n",
              "3    6001409100              2490          Alameda   94603   \n",
              "4    6001406100              4733          Alameda   94601   \n",
              "\n",
              "  Approximate Location   Longitude   Latitude CES 4.0 Score  \\\n",
              "0              Oakland -122.210924  37.762179   65.03368513   \n",
              "1              Oakland -122.221368  37.720011   63.17258084   \n",
              "2              Oakland -122.196942  37.758804   61.00690204   \n",
              "3              Oakland -122.183500  37.732326   57.14347122   \n",
              "4              Oakland -122.227594  37.774155   56.86484247   \n",
              "\n",
              "   CES 4.0 Percentile     Ozone  ...  Linguistic Isolation Pctl  Poverty  \\\n",
              "0         97.84417549  0.029372  ...                71.15983218     50.1   \n",
              "1         97.17599597  0.030640  ...                73.36581405     44.7   \n",
              "2         96.24306606  0.030640  ...                44.36324266     65.1   \n",
              "3         93.99899143  0.031908  ...                50.62179516     43.8   \n",
              "4          93.8477055  0.029372  ...                87.88740019     51.8   \n",
              "\n",
              "   Poverty Pctl  Unemployment  Unemployment Pctl Housing Burden  \\\n",
              "0   81.90954774            11        89.66684019           35.5   \n",
              "1    75.7160804           7.3         69.9765747             23   \n",
              "2            95           8.7        79.72410203           23.3   \n",
              "3   74.45979899           6.2        59.38313378           34.2   \n",
              "4   83.86934673           6.9        66.60593441           29.8   \n",
              "\n",
              "  Housing Burden Pctl  Pop. Char.  Pop. Char. Score  Pop. Char. Pctl  \n",
              "0         96.52724968  82.40183906      8.547748991      94.85627837  \n",
              "1         74.04309252  81.64710362      8.469458395      94.16288452  \n",
              "2         75.10773131  86.77370423      9.001253506       97.7433182  \n",
              "3         95.52598226  84.57904492      8.773596004       96.2934947  \n",
              "4         90.24081115  75.51276215      7.833127802      87.32980333  \n",
              "\n",
              "[5 rows x 57 columns]"
            ],
            "text/html": [
              "\n",
              "  <div id=\"df-f40199e9-067f-411e-bf57-0cec6b68fbac\">\n",
              "    <div class=\"colab-df-container\">\n",
              "      <div>\n",
              "<style scoped>\n",
              "    .dataframe tbody tr th:only-of-type {\n",
              "        vertical-align: middle;\n",
              "    }\n",
              "\n",
              "    .dataframe tbody tr th {\n",
              "        vertical-align: top;\n",
              "    }\n",
              "\n",
              "    .dataframe thead th {\n",
              "        text-align: right;\n",
              "    }\n",
              "</style>\n",
              "<table border=\"1\" class=\"dataframe\">\n",
              "  <thead>\n",
              "    <tr style=\"text-align: right;\">\n",
              "      <th></th>\n",
              "      <th>Census Tract</th>\n",
              "      <th>Total Population</th>\n",
              "      <th>California County</th>\n",
              "      <th>ZIP</th>\n",
              "      <th>Approximate Location</th>\n",
              "      <th>Longitude</th>\n",
              "      <th>Latitude</th>\n",
              "      <th>CES 4.0 Score</th>\n",
              "      <th>CES 4.0 Percentile</th>\n",
              "      <th>Ozone</th>\n",
              "      <th>...</th>\n",
              "      <th>Linguistic Isolation Pctl</th>\n",
              "      <th>Poverty</th>\n",
              "      <th>Poverty Pctl</th>\n",
              "      <th>Unemployment</th>\n",
              "      <th>Unemployment Pctl</th>\n",
              "      <th>Housing Burden</th>\n",
              "      <th>Housing Burden Pctl</th>\n",
              "      <th>Pop. Char.</th>\n",
              "      <th>Pop. Char. Score</th>\n",
              "      <th>Pop. Char. Pctl</th>\n",
              "    </tr>\n",
              "  </thead>\n",
              "  <tbody>\n",
              "    <tr>\n",
              "      <th>0</th>\n",
              "      <td>6001407300</td>\n",
              "      <td>2420</td>\n",
              "      <td>Alameda</td>\n",
              "      <td>94601</td>\n",
              "      <td>Oakland</td>\n",
              "      <td>-122.210924</td>\n",
              "      <td>37.762179</td>\n",
              "      <td>65.03368513</td>\n",
              "      <td>97.84417549</td>\n",
              "      <td>0.029372</td>\n",
              "      <td>...</td>\n",
              "      <td>71.15983218</td>\n",
              "      <td>50.1</td>\n",
              "      <td>81.90954774</td>\n",
              "      <td>11</td>\n",
              "      <td>89.66684019</td>\n",
              "      <td>35.5</td>\n",
              "      <td>96.52724968</td>\n",
              "      <td>82.40183906</td>\n",
              "      <td>8.547748991</td>\n",
              "      <td>94.85627837</td>\n",
              "    </tr>\n",
              "    <tr>\n",
              "      <th>1</th>\n",
              "      <td>6001409000</td>\n",
              "      <td>4687</td>\n",
              "      <td>Alameda</td>\n",
              "      <td>94621</td>\n",
              "      <td>Oakland</td>\n",
              "      <td>-122.221368</td>\n",
              "      <td>37.720011</td>\n",
              "      <td>63.17258084</td>\n",
              "      <td>97.17599597</td>\n",
              "      <td>0.030640</td>\n",
              "      <td>...</td>\n",
              "      <td>73.36581405</td>\n",
              "      <td>44.7</td>\n",
              "      <td>75.7160804</td>\n",
              "      <td>7.3</td>\n",
              "      <td>69.9765747</td>\n",
              "      <td>23</td>\n",
              "      <td>74.04309252</td>\n",
              "      <td>81.64710362</td>\n",
              "      <td>8.469458395</td>\n",
              "      <td>94.16288452</td>\n",
              "    </tr>\n",
              "    <tr>\n",
              "      <th>2</th>\n",
              "      <td>6001408800</td>\n",
              "      <td>7149</td>\n",
              "      <td>Alameda</td>\n",
              "      <td>94621</td>\n",
              "      <td>Oakland</td>\n",
              "      <td>-122.196942</td>\n",
              "      <td>37.758804</td>\n",
              "      <td>61.00690204</td>\n",
              "      <td>96.24306606</td>\n",
              "      <td>0.030640</td>\n",
              "      <td>...</td>\n",
              "      <td>44.36324266</td>\n",
              "      <td>65.1</td>\n",
              "      <td>95</td>\n",
              "      <td>8.7</td>\n",
              "      <td>79.72410203</td>\n",
              "      <td>23.3</td>\n",
              "      <td>75.10773131</td>\n",
              "      <td>86.77370423</td>\n",
              "      <td>9.001253506</td>\n",
              "      <td>97.7433182</td>\n",
              "    </tr>\n",
              "    <tr>\n",
              "      <th>3</th>\n",
              "      <td>6001409100</td>\n",
              "      <td>2490</td>\n",
              "      <td>Alameda</td>\n",
              "      <td>94603</td>\n",
              "      <td>Oakland</td>\n",
              "      <td>-122.183500</td>\n",
              "      <td>37.732326</td>\n",
              "      <td>57.14347122</td>\n",
              "      <td>93.99899143</td>\n",
              "      <td>0.031908</td>\n",
              "      <td>...</td>\n",
              "      <td>50.62179516</td>\n",
              "      <td>43.8</td>\n",
              "      <td>74.45979899</td>\n",
              "      <td>6.2</td>\n",
              "      <td>59.38313378</td>\n",
              "      <td>34.2</td>\n",
              "      <td>95.52598226</td>\n",
              "      <td>84.57904492</td>\n",
              "      <td>8.773596004</td>\n",
              "      <td>96.2934947</td>\n",
              "    </tr>\n",
              "    <tr>\n",
              "      <th>4</th>\n",
              "      <td>6001406100</td>\n",
              "      <td>4733</td>\n",
              "      <td>Alameda</td>\n",
              "      <td>94601</td>\n",
              "      <td>Oakland</td>\n",
              "      <td>-122.227594</td>\n",
              "      <td>37.774155</td>\n",
              "      <td>56.86484247</td>\n",
              "      <td>93.8477055</td>\n",
              "      <td>0.029372</td>\n",
              "      <td>...</td>\n",
              "      <td>87.88740019</td>\n",
              "      <td>51.8</td>\n",
              "      <td>83.86934673</td>\n",
              "      <td>6.9</td>\n",
              "      <td>66.60593441</td>\n",
              "      <td>29.8</td>\n",
              "      <td>90.24081115</td>\n",
              "      <td>75.51276215</td>\n",
              "      <td>7.833127802</td>\n",
              "      <td>87.32980333</td>\n",
              "    </tr>\n",
              "  </tbody>\n",
              "</table>\n",
              "<p>5 rows × 57 columns</p>\n",
              "</div>\n",
              "      <button class=\"colab-df-convert\" onclick=\"convertToInteractive('df-f40199e9-067f-411e-bf57-0cec6b68fbac')\"\n",
              "              title=\"Convert this dataframe to an interactive table.\"\n",
              "              style=\"display:none;\">\n",
              "        \n",
              "  <svg xmlns=\"http://www.w3.org/2000/svg\" height=\"24px\"viewBox=\"0 0 24 24\"\n",
              "       width=\"24px\">\n",
              "    <path d=\"M0 0h24v24H0V0z\" fill=\"none\"/>\n",
              "    <path d=\"M18.56 5.44l.94 2.06.94-2.06 2.06-.94-2.06-.94-.94-2.06-.94 2.06-2.06.94zm-11 1L8.5 8.5l.94-2.06 2.06-.94-2.06-.94L8.5 2.5l-.94 2.06-2.06.94zm10 10l.94 2.06.94-2.06 2.06-.94-2.06-.94-.94-2.06-.94 2.06-2.06.94z\"/><path d=\"M17.41 7.96l-1.37-1.37c-.4-.4-.92-.59-1.43-.59-.52 0-1.04.2-1.43.59L10.3 9.45l-7.72 7.72c-.78.78-.78 2.05 0 2.83L4 21.41c.39.39.9.59 1.41.59.51 0 1.02-.2 1.41-.59l7.78-7.78 2.81-2.81c.8-.78.8-2.07 0-2.86zM5.41 20L4 18.59l7.72-7.72 1.47 1.35L5.41 20z\"/>\n",
              "  </svg>\n",
              "      </button>\n",
              "      \n",
              "  <style>\n",
              "    .colab-df-container {\n",
              "      display:flex;\n",
              "      flex-wrap:wrap;\n",
              "      gap: 12px;\n",
              "    }\n",
              "\n",
              "    .colab-df-convert {\n",
              "      background-color: #E8F0FE;\n",
              "      border: none;\n",
              "      border-radius: 50%;\n",
              "      cursor: pointer;\n",
              "      display: none;\n",
              "      fill: #1967D2;\n",
              "      height: 32px;\n",
              "      padding: 0 0 0 0;\n",
              "      width: 32px;\n",
              "    }\n",
              "\n",
              "    .colab-df-convert:hover {\n",
              "      background-color: #E2EBFA;\n",
              "      box-shadow: 0px 1px 2px rgba(60, 64, 67, 0.3), 0px 1px 3px 1px rgba(60, 64, 67, 0.15);\n",
              "      fill: #174EA6;\n",
              "    }\n",
              "\n",
              "    [theme=dark] .colab-df-convert {\n",
              "      background-color: #3B4455;\n",
              "      fill: #D2E3FC;\n",
              "    }\n",
              "\n",
              "    [theme=dark] .colab-df-convert:hover {\n",
              "      background-color: #434B5C;\n",
              "      box-shadow: 0px 1px 3px 1px rgba(0, 0, 0, 0.15);\n",
              "      filter: drop-shadow(0px 1px 2px rgba(0, 0, 0, 0.3));\n",
              "      fill: #FFFFFF;\n",
              "    }\n",
              "  </style>\n",
              "\n",
              "      <script>\n",
              "        const buttonEl =\n",
              "          document.querySelector('#df-f40199e9-067f-411e-bf57-0cec6b68fbac button.colab-df-convert');\n",
              "        buttonEl.style.display =\n",
              "          google.colab.kernel.accessAllowed ? 'block' : 'none';\n",
              "\n",
              "        async function convertToInteractive(key) {\n",
              "          const element = document.querySelector('#df-f40199e9-067f-411e-bf57-0cec6b68fbac');\n",
              "          const dataTable =\n",
              "            await google.colab.kernel.invokeFunction('convertToInteractive',\n",
              "                                                     [key], {});\n",
              "          if (!dataTable) return;\n",
              "\n",
              "          const docLinkHtml = 'Like what you see? Visit the ' +\n",
              "            '<a target=\"_blank\" href=https://colab.research.google.com/notebooks/data_table.ipynb>data table notebook</a>'\n",
              "            + ' to learn more about interactive tables.';\n",
              "          element.innerHTML = '';\n",
              "          dataTable['output_type'] = 'display_data';\n",
              "          await google.colab.output.renderOutput(dataTable, element);\n",
              "          const docLink = document.createElement('div');\n",
              "          docLink.innerHTML = docLinkHtml;\n",
              "          element.appendChild(docLink);\n",
              "        }\n",
              "      </script>\n",
              "    </div>\n",
              "  </div>\n",
              "  "
            ]
          },
          "metadata": {}
        },
        {
          "output_type": "display_data",
          "data": {
            "text/plain": [
              "       Census Tract  Total Population           ZIP    Longitude     Latitude  \\\n",
              "count  8.035000e+03       8035.000000   8035.000000  8035.000000  8035.000000   \n",
              "mean   6.054896e+09       4889.047542  92836.574611  -119.409318    35.495893   \n",
              "std    2.652280e+07       2269.284396   3445.177594     1.976336     2.086016   \n",
              "min    6.001400e+09          0.000000     32.000000  -124.297889    32.547376   \n",
              "25%    6.037265e+09       3470.000000  91602.000000  -121.518410    33.924145   \n",
              "50%    6.059053e+09       4615.000000  92691.000000  -118.429194    34.206624   \n",
              "75%    6.073016e+09       5931.000000  94558.000000  -117.924814    37.634021   \n",
              "max    6.115041e+09      38754.000000  96161.000000  -114.306484    41.946648   \n",
              "\n",
              "             Ozone   Ozone Pctl        PM2.5   PM2.5 Pctl    Diesel PM  ...  \\\n",
              "count  8035.000000  8035.000000  8035.000000  8035.000000  8035.000000  ...   \n",
              "mean      0.048666    50.901364    10.152700    50.007725     0.225442  ...   \n",
              "std       0.010475    28.778394     2.165937    28.869832     0.304643  ...   \n",
              "min       0.026554     0.186683     1.875092     0.012446     0.000052  ...   \n",
              "25%       0.041926    26.695706     8.575343    25.009334     0.067683  ...   \n",
              "50%       0.047165    50.541381    10.119433    50.006223     0.144929  ...   \n",
              "75%       0.056800    75.121344    11.937845    75.003111     0.286794  ...   \n",
              "max       0.073132   100.000000    16.394748   100.000000    14.611221  ...   \n",
              "\n",
              "       Imp. Water Bodies Pctl  Solid Waste  Solid Waste Pctl  \\\n",
              "count             8035.000000  8035.000000       8035.000000   \n",
              "mean                31.960689     2.095277         28.075321   \n",
              "std                 33.732537     4.209647         32.963717   \n",
              "min                  0.000000     0.000000          0.000000   \n",
              "25%                  0.000000     0.000000          0.000000   \n",
              "50%                 23.876522     0.200000          9.667812   \n",
              "75%                 58.693826     2.200000         54.845361   \n",
              "max                100.000000    64.250000        100.000000   \n",
              "\n",
              "       Pollution Burden  Pollution Burden Score  Pollution Burden Pctl  \\\n",
              "count       8035.000000             8035.000000            8035.000000   \n",
              "mean          42.690700                5.212526              50.006223   \n",
              "std           12.757434                1.557680              28.869310   \n",
              "min            4.581979                0.559459               0.012446   \n",
              "25%           33.315833                4.067857              25.009334   \n",
              "50%           42.500265                5.189274              50.006223   \n",
              "75%           51.765395                6.320544              75.003111   \n",
              "max           81.900215               10.000000             100.000000   \n",
              "\n",
              "            Asthma  Asthma Pctl  Cardiovascular Disease  \\\n",
              "count  8035.000000  8035.000000             8035.000000   \n",
              "mean     51.980467    50.020992               13.413213   \n",
              "std      30.560273    28.864643                5.195548   \n",
              "min       4.280000     0.012463                2.860000   \n",
              "25%      30.060000    25.037388                9.450000   \n",
              "50%      45.710000    50.012463               12.420000   \n",
              "75%      65.815000    75.012463               16.750000   \n",
              "max     243.290000   100.000000               40.850000   \n",
              "\n",
              "       Cardiovascular Disease Pctl  \n",
              "count                  8035.000000  \n",
              "mean                     50.044019  \n",
              "std                      28.860240  \n",
              "min                       0.012463  \n",
              "25%                      25.074776  \n",
              "50%                      50.024925  \n",
              "75%                      74.987537  \n",
              "max                     100.000000  \n",
              "\n",
              "[8 rows x 32 columns]"
            ],
            "text/html": [
              "\n",
              "  <div id=\"df-0f5eae3c-9dc1-42fc-a878-2fcc06ad93c1\">\n",
              "    <div class=\"colab-df-container\">\n",
              "      <div>\n",
              "<style scoped>\n",
              "    .dataframe tbody tr th:only-of-type {\n",
              "        vertical-align: middle;\n",
              "    }\n",
              "\n",
              "    .dataframe tbody tr th {\n",
              "        vertical-align: top;\n",
              "    }\n",
              "\n",
              "    .dataframe thead th {\n",
              "        text-align: right;\n",
              "    }\n",
              "</style>\n",
              "<table border=\"1\" class=\"dataframe\">\n",
              "  <thead>\n",
              "    <tr style=\"text-align: right;\">\n",
              "      <th></th>\n",
              "      <th>Census Tract</th>\n",
              "      <th>Total Population</th>\n",
              "      <th>ZIP</th>\n",
              "      <th>Longitude</th>\n",
              "      <th>Latitude</th>\n",
              "      <th>Ozone</th>\n",
              "      <th>Ozone Pctl</th>\n",
              "      <th>PM2.5</th>\n",
              "      <th>PM2.5 Pctl</th>\n",
              "      <th>Diesel PM</th>\n",
              "      <th>...</th>\n",
              "      <th>Imp. Water Bodies Pctl</th>\n",
              "      <th>Solid Waste</th>\n",
              "      <th>Solid Waste Pctl</th>\n",
              "      <th>Pollution Burden</th>\n",
              "      <th>Pollution Burden Score</th>\n",
              "      <th>Pollution Burden Pctl</th>\n",
              "      <th>Asthma</th>\n",
              "      <th>Asthma Pctl</th>\n",
              "      <th>Cardiovascular Disease</th>\n",
              "      <th>Cardiovascular Disease Pctl</th>\n",
              "    </tr>\n",
              "  </thead>\n",
              "  <tbody>\n",
              "    <tr>\n",
              "      <th>count</th>\n",
              "      <td>8.035000e+03</td>\n",
              "      <td>8035.000000</td>\n",
              "      <td>8035.000000</td>\n",
              "      <td>8035.000000</td>\n",
              "      <td>8035.000000</td>\n",
              "      <td>8035.000000</td>\n",
              "      <td>8035.000000</td>\n",
              "      <td>8035.000000</td>\n",
              "      <td>8035.000000</td>\n",
              "      <td>8035.000000</td>\n",
              "      <td>...</td>\n",
              "      <td>8035.000000</td>\n",
              "      <td>8035.000000</td>\n",
              "      <td>8035.000000</td>\n",
              "      <td>8035.000000</td>\n",
              "      <td>8035.000000</td>\n",
              "      <td>8035.000000</td>\n",
              "      <td>8035.000000</td>\n",
              "      <td>8035.000000</td>\n",
              "      <td>8035.000000</td>\n",
              "      <td>8035.000000</td>\n",
              "    </tr>\n",
              "    <tr>\n",
              "      <th>mean</th>\n",
              "      <td>6.054896e+09</td>\n",
              "      <td>4889.047542</td>\n",
              "      <td>92836.574611</td>\n",
              "      <td>-119.409318</td>\n",
              "      <td>35.495893</td>\n",
              "      <td>0.048666</td>\n",
              "      <td>50.901364</td>\n",
              "      <td>10.152700</td>\n",
              "      <td>50.007725</td>\n",
              "      <td>0.225442</td>\n",
              "      <td>...</td>\n",
              "      <td>31.960689</td>\n",
              "      <td>2.095277</td>\n",
              "      <td>28.075321</td>\n",
              "      <td>42.690700</td>\n",
              "      <td>5.212526</td>\n",
              "      <td>50.006223</td>\n",
              "      <td>51.980467</td>\n",
              "      <td>50.020992</td>\n",
              "      <td>13.413213</td>\n",
              "      <td>50.044019</td>\n",
              "    </tr>\n",
              "    <tr>\n",
              "      <th>std</th>\n",
              "      <td>2.652280e+07</td>\n",
              "      <td>2269.284396</td>\n",
              "      <td>3445.177594</td>\n",
              "      <td>1.976336</td>\n",
              "      <td>2.086016</td>\n",
              "      <td>0.010475</td>\n",
              "      <td>28.778394</td>\n",
              "      <td>2.165937</td>\n",
              "      <td>28.869832</td>\n",
              "      <td>0.304643</td>\n",
              "      <td>...</td>\n",
              "      <td>33.732537</td>\n",
              "      <td>4.209647</td>\n",
              "      <td>32.963717</td>\n",
              "      <td>12.757434</td>\n",
              "      <td>1.557680</td>\n",
              "      <td>28.869310</td>\n",
              "      <td>30.560273</td>\n",
              "      <td>28.864643</td>\n",
              "      <td>5.195548</td>\n",
              "      <td>28.860240</td>\n",
              "    </tr>\n",
              "    <tr>\n",
              "      <th>min</th>\n",
              "      <td>6.001400e+09</td>\n",
              "      <td>0.000000</td>\n",
              "      <td>32.000000</td>\n",
              "      <td>-124.297889</td>\n",
              "      <td>32.547376</td>\n",
              "      <td>0.026554</td>\n",
              "      <td>0.186683</td>\n",
              "      <td>1.875092</td>\n",
              "      <td>0.012446</td>\n",
              "      <td>0.000052</td>\n",
              "      <td>...</td>\n",
              "      <td>0.000000</td>\n",
              "      <td>0.000000</td>\n",
              "      <td>0.000000</td>\n",
              "      <td>4.581979</td>\n",
              "      <td>0.559459</td>\n",
              "      <td>0.012446</td>\n",
              "      <td>4.280000</td>\n",
              "      <td>0.012463</td>\n",
              "      <td>2.860000</td>\n",
              "      <td>0.012463</td>\n",
              "    </tr>\n",
              "    <tr>\n",
              "      <th>25%</th>\n",
              "      <td>6.037265e+09</td>\n",
              "      <td>3470.000000</td>\n",
              "      <td>91602.000000</td>\n",
              "      <td>-121.518410</td>\n",
              "      <td>33.924145</td>\n",
              "      <td>0.041926</td>\n",
              "      <td>26.695706</td>\n",
              "      <td>8.575343</td>\n",
              "      <td>25.009334</td>\n",
              "      <td>0.067683</td>\n",
              "      <td>...</td>\n",
              "      <td>0.000000</td>\n",
              "      <td>0.000000</td>\n",
              "      <td>0.000000</td>\n",
              "      <td>33.315833</td>\n",
              "      <td>4.067857</td>\n",
              "      <td>25.009334</td>\n",
              "      <td>30.060000</td>\n",
              "      <td>25.037388</td>\n",
              "      <td>9.450000</td>\n",
              "      <td>25.074776</td>\n",
              "    </tr>\n",
              "    <tr>\n",
              "      <th>50%</th>\n",
              "      <td>6.059053e+09</td>\n",
              "      <td>4615.000000</td>\n",
              "      <td>92691.000000</td>\n",
              "      <td>-118.429194</td>\n",
              "      <td>34.206624</td>\n",
              "      <td>0.047165</td>\n",
              "      <td>50.541381</td>\n",
              "      <td>10.119433</td>\n",
              "      <td>50.006223</td>\n",
              "      <td>0.144929</td>\n",
              "      <td>...</td>\n",
              "      <td>23.876522</td>\n",
              "      <td>0.200000</td>\n",
              "      <td>9.667812</td>\n",
              "      <td>42.500265</td>\n",
              "      <td>5.189274</td>\n",
              "      <td>50.006223</td>\n",
              "      <td>45.710000</td>\n",
              "      <td>50.012463</td>\n",
              "      <td>12.420000</td>\n",
              "      <td>50.024925</td>\n",
              "    </tr>\n",
              "    <tr>\n",
              "      <th>75%</th>\n",
              "      <td>6.073016e+09</td>\n",
              "      <td>5931.000000</td>\n",
              "      <td>94558.000000</td>\n",
              "      <td>-117.924814</td>\n",
              "      <td>37.634021</td>\n",
              "      <td>0.056800</td>\n",
              "      <td>75.121344</td>\n",
              "      <td>11.937845</td>\n",
              "      <td>75.003111</td>\n",
              "      <td>0.286794</td>\n",
              "      <td>...</td>\n",
              "      <td>58.693826</td>\n",
              "      <td>2.200000</td>\n",
              "      <td>54.845361</td>\n",
              "      <td>51.765395</td>\n",
              "      <td>6.320544</td>\n",
              "      <td>75.003111</td>\n",
              "      <td>65.815000</td>\n",
              "      <td>75.012463</td>\n",
              "      <td>16.750000</td>\n",
              "      <td>74.987537</td>\n",
              "    </tr>\n",
              "    <tr>\n",
              "      <th>max</th>\n",
              "      <td>6.115041e+09</td>\n",
              "      <td>38754.000000</td>\n",
              "      <td>96161.000000</td>\n",
              "      <td>-114.306484</td>\n",
              "      <td>41.946648</td>\n",
              "      <td>0.073132</td>\n",
              "      <td>100.000000</td>\n",
              "      <td>16.394748</td>\n",
              "      <td>100.000000</td>\n",
              "      <td>14.611221</td>\n",
              "      <td>...</td>\n",
              "      <td>100.000000</td>\n",
              "      <td>64.250000</td>\n",
              "      <td>100.000000</td>\n",
              "      <td>81.900215</td>\n",
              "      <td>10.000000</td>\n",
              "      <td>100.000000</td>\n",
              "      <td>243.290000</td>\n",
              "      <td>100.000000</td>\n",
              "      <td>40.850000</td>\n",
              "      <td>100.000000</td>\n",
              "    </tr>\n",
              "  </tbody>\n",
              "</table>\n",
              "<p>8 rows × 32 columns</p>\n",
              "</div>\n",
              "      <button class=\"colab-df-convert\" onclick=\"convertToInteractive('df-0f5eae3c-9dc1-42fc-a878-2fcc06ad93c1')\"\n",
              "              title=\"Convert this dataframe to an interactive table.\"\n",
              "              style=\"display:none;\">\n",
              "        \n",
              "  <svg xmlns=\"http://www.w3.org/2000/svg\" height=\"24px\"viewBox=\"0 0 24 24\"\n",
              "       width=\"24px\">\n",
              "    <path d=\"M0 0h24v24H0V0z\" fill=\"none\"/>\n",
              "    <path d=\"M18.56 5.44l.94 2.06.94-2.06 2.06-.94-2.06-.94-.94-2.06-.94 2.06-2.06.94zm-11 1L8.5 8.5l.94-2.06 2.06-.94-2.06-.94L8.5 2.5l-.94 2.06-2.06.94zm10 10l.94 2.06.94-2.06 2.06-.94-2.06-.94-.94-2.06-.94 2.06-2.06.94z\"/><path d=\"M17.41 7.96l-1.37-1.37c-.4-.4-.92-.59-1.43-.59-.52 0-1.04.2-1.43.59L10.3 9.45l-7.72 7.72c-.78.78-.78 2.05 0 2.83L4 21.41c.39.39.9.59 1.41.59.51 0 1.02-.2 1.41-.59l7.78-7.78 2.81-2.81c.8-.78.8-2.07 0-2.86zM5.41 20L4 18.59l7.72-7.72 1.47 1.35L5.41 20z\"/>\n",
              "  </svg>\n",
              "      </button>\n",
              "      \n",
              "  <style>\n",
              "    .colab-df-container {\n",
              "      display:flex;\n",
              "      flex-wrap:wrap;\n",
              "      gap: 12px;\n",
              "    }\n",
              "\n",
              "    .colab-df-convert {\n",
              "      background-color: #E8F0FE;\n",
              "      border: none;\n",
              "      border-radius: 50%;\n",
              "      cursor: pointer;\n",
              "      display: none;\n",
              "      fill: #1967D2;\n",
              "      height: 32px;\n",
              "      padding: 0 0 0 0;\n",
              "      width: 32px;\n",
              "    }\n",
              "\n",
              "    .colab-df-convert:hover {\n",
              "      background-color: #E2EBFA;\n",
              "      box-shadow: 0px 1px 2px rgba(60, 64, 67, 0.3), 0px 1px 3px 1px rgba(60, 64, 67, 0.15);\n",
              "      fill: #174EA6;\n",
              "    }\n",
              "\n",
              "    [theme=dark] .colab-df-convert {\n",
              "      background-color: #3B4455;\n",
              "      fill: #D2E3FC;\n",
              "    }\n",
              "\n",
              "    [theme=dark] .colab-df-convert:hover {\n",
              "      background-color: #434B5C;\n",
              "      box-shadow: 0px 1px 3px 1px rgba(0, 0, 0, 0.15);\n",
              "      filter: drop-shadow(0px 1px 2px rgba(0, 0, 0, 0.3));\n",
              "      fill: #FFFFFF;\n",
              "    }\n",
              "  </style>\n",
              "\n",
              "      <script>\n",
              "        const buttonEl =\n",
              "          document.querySelector('#df-0f5eae3c-9dc1-42fc-a878-2fcc06ad93c1 button.colab-df-convert');\n",
              "        buttonEl.style.display =\n",
              "          google.colab.kernel.accessAllowed ? 'block' : 'none';\n",
              "\n",
              "        async function convertToInteractive(key) {\n",
              "          const element = document.querySelector('#df-0f5eae3c-9dc1-42fc-a878-2fcc06ad93c1');\n",
              "          const dataTable =\n",
              "            await google.colab.kernel.invokeFunction('convertToInteractive',\n",
              "                                                     [key], {});\n",
              "          if (!dataTable) return;\n",
              "\n",
              "          const docLinkHtml = 'Like what you see? Visit the ' +\n",
              "            '<a target=\"_blank\" href=https://colab.research.google.com/notebooks/data_table.ipynb>data table notebook</a>'\n",
              "            + ' to learn more about interactive tables.';\n",
              "          element.innerHTML = '';\n",
              "          dataTable['output_type'] = 'display_data';\n",
              "          await google.colab.output.renderOutput(dataTable, element);\n",
              "          const docLink = document.createElement('div');\n",
              "          docLink.innerHTML = docLinkHtml;\n",
              "          element.appendChild(docLink);\n",
              "        }\n",
              "      </script>\n",
              "    </div>\n",
              "  </div>\n",
              "  "
            ]
          },
          "metadata": {}
        },
        {
          "output_type": "stream",
          "name": "stdout",
          "text": [
            "<class 'pandas.core.frame.DataFrame'>\n",
            "RangeIndex: 8035 entries, 0 to 8034\n",
            "Data columns (total 57 columns):\n",
            " #   Column                       Non-Null Count  Dtype  \n",
            "---  ------                       --------------  -----  \n",
            " 0   Census Tract                 8035 non-null   int64  \n",
            " 1   Total Population             8035 non-null   int64  \n",
            " 2   California County            8035 non-null   object \n",
            " 3   ZIP                          8035 non-null   int64  \n",
            " 4   Approximate Location         8035 non-null   object \n",
            " 5   Longitude                    8035 non-null   float64\n",
            " 6   Latitude                     8035 non-null   float64\n",
            " 7   CES 4.0 Score                8035 non-null   object \n",
            " 8    CES 4.0 Percentile          8035 non-null   object \n",
            " 9   Ozone                        8035 non-null   float64\n",
            " 10  Ozone Pctl                   8035 non-null   float64\n",
            " 11  PM2.5                        8035 non-null   float64\n",
            " 12  PM2.5 Pctl                   8035 non-null   float64\n",
            " 13  Diesel PM                    8035 non-null   float64\n",
            " 14  Diesel PM Pctl               8035 non-null   float64\n",
            " 15  Drinking Water               8035 non-null   object \n",
            " 16  Drinking Water Pctl          8035 non-null   object \n",
            " 17  Lead                         8035 non-null   object \n",
            " 18  Lead Pctl                    8035 non-null   object \n",
            " 19  Pesticides                   8035 non-null   float64\n",
            " 20  Pesticides Pctl              8035 non-null   float64\n",
            " 21  Tox. Release                 8035 non-null   float64\n",
            " 22  Tox. Release Pctl            8035 non-null   float64\n",
            " 23  Traffic                      8035 non-null   object \n",
            " 24  Traffic Pctl                 8035 non-null   object \n",
            " 25  Cleanup Sites                8035 non-null   float64\n",
            " 26  Cleanup Sites Pctl           8035 non-null   float64\n",
            " 27  Groundwater Threats          8035 non-null   float64\n",
            " 28  Groundwater Threats Pctl     8035 non-null   float64\n",
            " 29  Haz. Waste                   8035 non-null   float64\n",
            " 30  Haz. Waste Pctl              8035 non-null   float64\n",
            " 31  Imp. Water Bodies            8035 non-null   int64  \n",
            " 32  Imp. Water Bodies Pctl       8035 non-null   float64\n",
            " 33  Solid Waste                  8035 non-null   float64\n",
            " 34  Solid Waste Pctl             8035 non-null   float64\n",
            " 35  Pollution Burden             8035 non-null   float64\n",
            " 36  Pollution Burden Score       8035 non-null   float64\n",
            " 37  Pollution Burden Pctl        8035 non-null   float64\n",
            " 38  Asthma                       8035 non-null   float64\n",
            " 39  Asthma Pctl                  8035 non-null   float64\n",
            " 40  Low Birth Weight             8035 non-null   object \n",
            " 41  Low Birth Weight Pctl        8035 non-null   object \n",
            " 42  Cardiovascular Disease       8035 non-null   float64\n",
            " 43  Cardiovascular Disease Pctl  8035 non-null   float64\n",
            " 44  Education                    8035 non-null   object \n",
            " 45  Education Pctl               8035 non-null   object \n",
            " 46  Linguistic Isolation         8035 non-null   object \n",
            " 47  Linguistic Isolation Pctl    8035 non-null   object \n",
            " 48  Poverty                      8035 non-null   object \n",
            " 49  Poverty Pctl                 8035 non-null   object \n",
            " 50  Unemployment                 8035 non-null   object \n",
            " 51  Unemployment Pctl            8035 non-null   object \n",
            " 52  Housing Burden               8035 non-null   object \n",
            " 53  Housing Burden Pctl          8035 non-null   object \n",
            " 54  Pop. Char.                   8035 non-null   object \n",
            " 55  Pop. Char. Score             8035 non-null   object \n",
            " 56  Pop. Char. Pctl              8035 non-null   object \n",
            "dtypes: float64(28), int64(4), object(25)\n",
            "memory usage: 3.5+ MB\n"
          ]
        },
        {
          "output_type": "display_data",
          "data": {
            "text/plain": [
              "None"
            ]
          },
          "metadata": {}
        },
        {
          "output_type": "display_data",
          "data": {
            "text/plain": [
              "Census Tract                   0\n",
              "Total Population               0\n",
              "California County              0\n",
              "ZIP                            0\n",
              "Approximate Location           0\n",
              "Longitude                      0\n",
              "Latitude                       0\n",
              "CES 4.0 Score                  0\n",
              " CES 4.0 Percentile            0\n",
              "Ozone                          0\n",
              "Ozone Pctl                     0\n",
              "PM2.5                          0\n",
              "PM2.5 Pctl                     0\n",
              "Diesel PM                      0\n",
              "Diesel PM Pctl                 0\n",
              "Drinking Water                 0\n",
              "Drinking Water Pctl            0\n",
              "Lead                           0\n",
              "Lead Pctl                      0\n",
              "Pesticides                     0\n",
              "Pesticides Pctl                0\n",
              "Tox. Release                   0\n",
              "Tox. Release Pctl              0\n",
              "Traffic                        0\n",
              "Traffic Pctl                   0\n",
              "Cleanup Sites                  0\n",
              "Cleanup Sites Pctl             0\n",
              "Groundwater Threats            0\n",
              "Groundwater Threats Pctl       0\n",
              "Haz. Waste                     0\n",
              "Haz. Waste Pctl                0\n",
              "Imp. Water Bodies              0\n",
              "Imp. Water Bodies Pctl         0\n",
              "Solid Waste                    0\n",
              "Solid Waste Pctl               0\n",
              "Pollution Burden               0\n",
              "Pollution Burden Score         0\n",
              "Pollution Burden Pctl          0\n",
              "Asthma                         0\n",
              "Asthma Pctl                    0\n",
              "Low Birth Weight               0\n",
              "Low Birth Weight Pctl          0\n",
              "Cardiovascular Disease         0\n",
              "Cardiovascular Disease Pctl    0\n",
              "Education                      0\n",
              "Education Pctl                 0\n",
              "Linguistic Isolation           0\n",
              "Linguistic Isolation Pctl      0\n",
              "Poverty                        0\n",
              "Poverty Pctl                   0\n",
              "Unemployment                   0\n",
              "Unemployment Pctl              0\n",
              "Housing Burden                 0\n",
              "Housing Burden Pctl            0\n",
              "Pop. Char.                     0\n",
              "Pop. Char. Score               0\n",
              "Pop. Char. Pctl                0\n",
              "dtype: int64"
            ]
          },
          "metadata": {}
        }
      ]
    },
    {
      "cell_type": "code",
      "source": [
        "data['CES 4.0 Score'] = pd.to_numeric(data['CES 4.0 Score'],errors = 'coerce')\n",
        "data['Drinking Water'] = pd.to_numeric(data['Drinking Water'],errors = 'coerce')\n",
        "data['Traffic'] = pd.to_numeric(data['Traffic'],errors = 'coerce')\n",
        "data['Education'] = pd.to_numeric(data['Education'],errors = 'coerce')\n",
        "data['Poverty'] = pd.to_numeric(data['Poverty'],errors = 'coerce')\n",
        "data['Unemployment'] = pd.to_numeric(data['Unemployment'],errors = 'coerce')"
      ],
      "metadata": {
        "id": "zt57R9-ymAPL"
      },
      "execution_count": null,
      "outputs": []
    },
    {
      "cell_type": "code",
      "source": [
        "feature_col = ['CES 4.0 Score','Ozone', 'PM2.5','Diesel PM',\n",
        "                'Drinking Water','Pesticides','Tox. Release',\n",
        "               'Traffic','Groundwater Threats','Imp. Water Bodies',\n",
        "               'Solid Waste', 'Education','Poverty', 'Unemployment']"
      ],
      "metadata": {
        "id": "KlAo0psOnhdw"
      },
      "execution_count": null,
      "outputs": []
    },
    {
      "cell_type": "code",
      "source": [
        ""
      ],
      "metadata": {
        "id": "v7XC1wnyz-x4"
      },
      "execution_count": null,
      "outputs": []
    },
    {
      "cell_type": "code",
      "source": [
        "f = lambda data: 1 if data[\"Cardiovascular Disease\"]>=\t16.75 else 0"
      ],
      "metadata": {
        "id": "ucR2bcmvmF0A"
      },
      "execution_count": null,
      "outputs": []
    },
    {
      "cell_type": "code",
      "source": [
        "data[\"label\"] = data.apply(f, axis=1)"
      ],
      "metadata": {
        "id": "J0TEyBp-mIyu"
      },
      "execution_count": null,
      "outputs": []
    },
    {
      "cell_type": "code",
      "source": [
        "#CES 4.0 Score\n",
        "bins = [0,14,25,40,96]\n",
        "data['CES 4.0 Score'] = pd.cut(data['CES 4.0 Score'],bins, labels=['Low','fair','Good','excellent'])\n",
        "display(data['CES 4.0 Score'])\n",
        "display(pd.value_counts(data['CES 4.0 Score']))"
      ],
      "metadata": {
        "colab": {
          "base_uri": "https://localhost:8080/",
          "height": 341
        },
        "id": "SJwPrBF9mL8v",
        "outputId": "5146d803-7b4d-4038-94e2-2f653d31262c"
      },
      "execution_count": null,
      "outputs": [
        {
          "output_type": "display_data",
          "data": {
            "text/plain": [
              "0       excellent\n",
              "1       excellent\n",
              "2       excellent\n",
              "3       excellent\n",
              "4       excellent\n",
              "          ...    \n",
              "8030    excellent\n",
              "8031         fair\n",
              "8032         fair\n",
              "8033         Good\n",
              "8034         fair\n",
              "Name: CES 4.0 Score, Length: 8035, dtype: category\n",
              "Categories (4, object): ['Low' < 'fair' < 'Good' < 'excellent']"
            ]
          },
          "metadata": {}
        },
        {
          "output_type": "display_data",
          "data": {
            "text/plain": [
              "Good         2108\n",
              "fair         2073\n",
              "excellent    2013\n",
              "Low          1838\n",
              "Name: CES 4.0 Score, dtype: int64"
            ]
          },
          "metadata": {}
        }
      ]
    },
    {
      "cell_type": "code",
      "source": [
        "#Ozone\n",
        "bins = [0,0.041926,0.047165,0.0568,0.08]\n",
        "data['Ozone'] = pd.cut(data['Ozone'],bins, labels=['Low','fair','Good','excellent'])\n",
        "display(data['Ozone'])\n",
        "display(pd.value_counts(data['Ozone']))"
      ],
      "metadata": {
        "colab": {
          "base_uri": "https://localhost:8080/",
          "height": 341
        },
        "id": "OUjOrzoQmOrG",
        "outputId": "e2731816-dc1a-4ead-d326-9695177e4bfb"
      },
      "execution_count": null,
      "outputs": [
        {
          "output_type": "display_data",
          "data": {
            "text/plain": [
              "0             Low\n",
              "1             Low\n",
              "2             Low\n",
              "3             Low\n",
              "4             Low\n",
              "          ...    \n",
              "8030    excellent\n",
              "8031         Good\n",
              "8032         fair\n",
              "8033         fair\n",
              "8034         fair\n",
              "Name: Ozone, Length: 8035, dtype: category\n",
              "Categories (4, object): ['Low' < 'fair' < 'Good' < 'excellent']"
            ]
          },
          "metadata": {}
        },
        {
          "output_type": "display_data",
          "data": {
            "text/plain": [
              "Low          2145\n",
              "excellent    1999\n",
              "Good         1975\n",
              "fair         1916\n",
              "Name: Ozone, dtype: int64"
            ]
          },
          "metadata": {}
        }
      ]
    },
    {
      "cell_type": "code",
      "source": [
        "#PM2.5\n",
        "bins = [0,8.57,10.12,11.93,20]\n",
        "data['PM2.5'] = pd.cut(data['PM2.5'],bins, labels=['Low','fair','Good','excellent'])\n",
        "display(data['PM2.5'])\n",
        "display(pd.value_counts(data['PM2.5']))"
      ],
      "metadata": {
        "colab": {
          "base_uri": "https://localhost:8080/",
          "height": 341
        },
        "id": "0ZNJEhMlmQsw",
        "outputId": "dfe1c671-7cbd-471a-e645-54e9223060d4"
      },
      "execution_count": null,
      "outputs": [
        {
          "output_type": "display_data",
          "data": {
            "text/plain": [
              "0            fair\n",
              "1            fair\n",
              "2            fair\n",
              "3             Low\n",
              "4            fair\n",
              "          ...    \n",
              "8030    excellent\n",
              "8031         fair\n",
              "8032          Low\n",
              "8033         fair\n",
              "8034          Low\n",
              "Name: PM2.5, Length: 8035, dtype: category\n",
              "Categories (4, object): ['Low' < 'fair' < 'Good' < 'excellent']"
            ]
          },
          "metadata": {}
        },
        {
          "output_type": "display_data",
          "data": {
            "text/plain": [
              "excellent    2039\n",
              "fair         2019\n",
              "Low          1999\n",
              "Good         1978\n",
              "Name: PM2.5, dtype: int64"
            ]
          },
          "metadata": {}
        }
      ]
    },
    {
      "cell_type": "code",
      "source": [
        "# Diesel PM\n",
        "bins = [0,0.067,0.1449,0.286,15]\n",
        "data['Diesel PM'] = pd.cut(data['Diesel PM'],bins, labels=['Low','fair','Good','excellent'])\n",
        "display(data['Diesel PM'])\n",
        "display(pd.value_counts(data['Diesel PM']))"
      ],
      "metadata": {
        "colab": {
          "base_uri": "https://localhost:8080/",
          "height": 341
        },
        "id": "2B7RUpwUmXCh",
        "outputId": "2623b8f5-8cad-48fa-837b-539dfca1b5dd"
      },
      "execution_count": null,
      "outputs": [
        {
          "output_type": "display_data",
          "data": {
            "text/plain": [
              "0       excellent\n",
              "1       excellent\n",
              "2       excellent\n",
              "3       excellent\n",
              "4       excellent\n",
              "          ...    \n",
              "8030          Low\n",
              "8031         fair\n",
              "8032          Low\n",
              "8033    excellent\n",
              "8034          Low\n",
              "Name: Diesel PM, Length: 8035, dtype: category\n",
              "Categories (4, object): ['Low' < 'fair' < 'Good' < 'excellent']"
            ]
          },
          "metadata": {}
        },
        {
          "output_type": "display_data",
          "data": {
            "text/plain": [
              "fair         2022\n",
              "excellent    2017\n",
              "Good         2002\n",
              "Low          1994\n",
              "Name: Diesel PM, dtype: int64"
            ]
          },
          "metadata": {}
        }
      ]
    },
    {
      "cell_type": "code",
      "source": [
        "#Drinking Water\n",
        "bins = [0,304.34,430.42,678.36,1300]\n",
        "data['Drinking Water'] = pd.cut(data['Drinking Water'],bins, labels=['Low','fair','Good','excellent'])\n",
        "display(data['Drinking Water'])\n",
        "display(pd.value_counts(data['Drinking Water']))"
      ],
      "metadata": {
        "colab": {
          "base_uri": "https://localhost:8080/",
          "height": 341
        },
        "id": "46eIYDhKmXQH",
        "outputId": "30c90f88-09c7-41fc-88ae-27b031eddc54"
      },
      "execution_count": null,
      "outputs": [
        {
          "output_type": "display_data",
          "data": {
            "text/plain": [
              "0        Low\n",
              "1        Low\n",
              "2        Low\n",
              "3        Low\n",
              "4        Low\n",
              "        ... \n",
              "8030    Good\n",
              "8031    fair\n",
              "8032    fair\n",
              "8033    Good\n",
              "8034     Low\n",
              "Name: Drinking Water, Length: 8035, dtype: category\n",
              "Categories (4, object): ['Low' < 'fair' < 'Good' < 'excellent']"
            ]
          },
          "metadata": {}
        },
        {
          "output_type": "display_data",
          "data": {
            "text/plain": [
              "excellent    2015\n",
              "Low          2009\n",
              "fair         2005\n",
              "Good         2005\n",
              "Name: Drinking Water, dtype: int64"
            ]
          },
          "metadata": {}
        }
      ]
    },
    {
      "cell_type": "code",
      "source": [
        "#Pesticides\n",
        "bins = [0,0.187,80812]\n",
        "data['Pesticides'] = pd.cut(data['Pesticides'],bins, labels=['Low','excellent'])\n",
        "display(data['Pesticides'])\n",
        "display(pd.value_counts(data['Pesticides']))"
      ],
      "metadata": {
        "colab": {
          "base_uri": "https://localhost:8080/",
          "height": 305
        },
        "id": "8C1mbze8mXXY",
        "outputId": "c703cf5a-326e-4f6c-fbf7-b80403436138"
      },
      "execution_count": null,
      "outputs": [
        {
          "output_type": "display_data",
          "data": {
            "text/plain": [
              "0             NaN\n",
              "1             NaN\n",
              "2             NaN\n",
              "3             NaN\n",
              "4             NaN\n",
              "          ...    \n",
              "8030    excellent\n",
              "8031          NaN\n",
              "8032    excellent\n",
              "8033    excellent\n",
              "8034          NaN\n",
              "Name: Pesticides, Length: 8035, dtype: category\n",
              "Categories (2, object): ['Low' < 'excellent']"
            ]
          },
          "metadata": {}
        },
        {
          "output_type": "display_data",
          "data": {
            "text/plain": [
              "excellent    2010\n",
              "Low           890\n",
              "Name: Pesticides, dtype: int64"
            ]
          },
          "metadata": {}
        }
      ]
    },
    {
      "cell_type": "code",
      "source": [
        "#Tox. Release\n",
        "bins = [0,111,456,1625,100000]\n",
        "data['Tox. Release'] = pd.cut(data['Tox. Release'],bins, labels=['Low','fair','Good','excellent'])\n",
        "display(data['Tox. Release'])\n",
        "display(pd.value_counts(data['Tox. Release']))"
      ],
      "metadata": {
        "colab": {
          "base_uri": "https://localhost:8080/",
          "height": 341
        },
        "id": "rvjPIUixmXhp",
        "outputId": "83fe5f23-9e07-4569-f358-b0d7ab232223"
      },
      "execution_count": null,
      "outputs": [
        {
          "output_type": "display_data",
          "data": {
            "text/plain": [
              "0       fair\n",
              "1       Good\n",
              "2       Good\n",
              "3       Good\n",
              "4       fair\n",
              "        ... \n",
              "8030     Low\n",
              "8031     Low\n",
              "8032     Low\n",
              "8033    fair\n",
              "8034     NaN\n",
              "Name: Tox. Release, Length: 8035, dtype: category\n",
              "Categories (4, object): ['Low' < 'fair' < 'Good' < 'excellent']"
            ]
          },
          "metadata": {}
        },
        {
          "output_type": "display_data",
          "data": {
            "text/plain": [
              "fair         2015\n",
              "excellent    2010\n",
              "Good         2009\n",
              "Low          1964\n",
              "Name: Tox. Release, dtype: int64"
            ]
          },
          "metadata": {}
        }
      ]
    },
    {
      "cell_type": "code",
      "source": [
        "#Traffic\n",
        "bins = [0,554,881,1384,45752]\n",
        "data['Traffic'] = pd.cut(data['Traffic'],bins, labels=['Low','fair','Good','excellent'])\n",
        "display(data['Traffic'])\n",
        "display(pd.value_counts(data['Traffic']))"
      ],
      "metadata": {
        "colab": {
          "base_uri": "https://localhost:8080/",
          "height": 341
        },
        "id": "1LV-DYnqmXqt",
        "outputId": "2e10685b-fd2b-48c7-841c-dda03f74b10d"
      },
      "execution_count": null,
      "outputs": [
        {
          "output_type": "display_data",
          "data": {
            "text/plain": [
              "0       excellent\n",
              "1       excellent\n",
              "2            fair\n",
              "3       excellent\n",
              "4       excellent\n",
              "          ...    \n",
              "8030         fair\n",
              "8031          Low\n",
              "8032    excellent\n",
              "8033    excellent\n",
              "8034         fair\n",
              "Name: Traffic, Length: 8035, dtype: category\n",
              "Categories (4, object): ['Low' < 'fair' < 'Good' < 'excellent']"
            ]
          },
          "metadata": {}
        },
        {
          "output_type": "display_data",
          "data": {
            "text/plain": [
              "excellent    2009\n",
              "Good         2008\n",
              "fair         2007\n",
              "Low          2006\n",
              "Name: Traffic, dtype: int64"
            ]
          },
          "metadata": {}
        }
      ]
    },
    {
      "cell_type": "code",
      "source": [
        "#Groundwater Threats\n",
        "bins = [0,2,6,19,700]\n",
        "data['Groundwater Threats'] = pd.cut(data['Groundwater Threats'],bins, labels=['Low','fair','Good','excellent'])\n",
        "display(data['Groundwater Threats'])\n",
        "display(pd.value_counts(data['Groundwater Threats']))"
      ],
      "metadata": {
        "colab": {
          "base_uri": "https://localhost:8080/",
          "height": 341
        },
        "id": "QcavpMXmmX6z",
        "outputId": "a4d74612-1266-4653-ab28-3117f5f8af81"
      },
      "execution_count": null,
      "outputs": [
        {
          "output_type": "display_data",
          "data": {
            "text/plain": [
              "0       excellent\n",
              "1       excellent\n",
              "2       excellent\n",
              "3            Good\n",
              "4       excellent\n",
              "          ...    \n",
              "8030          NaN\n",
              "8031         fair\n",
              "8032    excellent\n",
              "8033          Low\n",
              "8034          NaN\n",
              "Name: Groundwater Threats, Length: 8035, dtype: category\n",
              "Categories (4, object): ['Low' < 'fair' < 'Good' < 'excellent']"
            ]
          },
          "metadata": {}
        },
        {
          "output_type": "display_data",
          "data": {
            "text/plain": [
              "excellent    1995\n",
              "Good         1919\n",
              "fair         1247\n",
              "Low           862\n",
              "Name: Groundwater Threats, dtype: int64"
            ]
          },
          "metadata": {}
        }
      ]
    },
    {
      "cell_type": "code",
      "source": [
        "#Imp. Water Bodies\n",
        "bins = [0,1,2,6,38]\n",
        "data['Imp. Water Bodies'] = pd.cut(data['Imp. Water Bodies'],bins, labels=['Low','fair','Good','excellent'])\n",
        "display(data['Imp. Water Bodies'])\n",
        "display(pd.value_counts(data['Imp. Water Bodies']))"
      ],
      "metadata": {
        "colab": {
          "base_uri": "https://localhost:8080/",
          "height": 341
        },
        "id": "-wo7fWZ5mYEe",
        "outputId": "db57d679-03ad-4761-d730-1a4be7af5763"
      },
      "execution_count": null,
      "outputs": [
        {
          "output_type": "display_data",
          "data": {
            "text/plain": [
              "0       excellent\n",
              "1       excellent\n",
              "2       excellent\n",
              "3       excellent\n",
              "4       excellent\n",
              "          ...    \n",
              "8030          Low\n",
              "8031          NaN\n",
              "8032    excellent\n",
              "8033         Good\n",
              "8034          NaN\n",
              "Name: Imp. Water Bodies, Length: 8035, dtype: category\n",
              "Categories (4, object): ['Low' < 'fair' < 'Good' < 'excellent']"
            ]
          },
          "metadata": {}
        },
        {
          "output_type": "display_data",
          "data": {
            "text/plain": [
              "excellent    1967\n",
              "Good         1658\n",
              "Low           593\n",
              "fair          544\n",
              "Name: Imp. Water Bodies, dtype: int64"
            ]
          },
          "metadata": {}
        }
      ]
    },
    {
      "cell_type": "code",
      "source": [
        "# Solid Waste\n",
        "bins = [0,0.1,0.2,2.2,65]\n",
        "data['Solid Waste'] = pd.cut(data['Solid Waste'],bins, labels=['Low','fair','Good','excellent'])\n",
        "display(data['Solid Waste'])\n",
        "display(pd.value_counts(data['Solid Waste']))"
      ],
      "metadata": {
        "colab": {
          "base_uri": "https://localhost:8080/",
          "height": 341
        },
        "id": "lR43_FH7mk4n",
        "outputId": "0c5f76a4-e1b6-402a-8d5a-641c717b05b3"
      },
      "execution_count": null,
      "outputs": [
        {
          "output_type": "display_data",
          "data": {
            "text/plain": [
              "0       excellent\n",
              "1       excellent\n",
              "2       excellent\n",
              "3            Good\n",
              "4       excellent\n",
              "          ...    \n",
              "8030          NaN\n",
              "8031         Good\n",
              "8032    excellent\n",
              "8033          NaN\n",
              "8034         Good\n",
              "Name: Solid Waste, Length: 8035, dtype: category\n",
              "Categories (4, object): ['Low' < 'fair' < 'Good' < 'excellent']"
            ]
          },
          "metadata": {}
        },
        {
          "output_type": "display_data",
          "data": {
            "text/plain": [
              "Good         1972\n",
              "excellent    1971\n",
              "fair          312\n",
              "Low           110\n",
              "Name: Solid Waste, dtype: int64"
            ]
          },
          "metadata": {}
        }
      ]
    },
    {
      "cell_type": "code",
      "source": [
        "#Education\n",
        "bins = [0,5.8,12.7,25,77]\n",
        "data['Education'] = pd.cut(data['Education'],bins, labels=['Low','fair','Good','excellent'])\n",
        "display(data['Education'])\n",
        "display(pd.value_counts(data['Education']))"
      ],
      "metadata": {
        "colab": {
          "base_uri": "https://localhost:8080/",
          "height": 341
        },
        "id": "XCrhUHI7mlYr",
        "outputId": "a8f14bbe-492a-4c45-b31b-fd324ce0dbc2"
      },
      "execution_count": null,
      "outputs": [
        {
          "output_type": "display_data",
          "data": {
            "text/plain": [
              "0       excellent\n",
              "1       excellent\n",
              "2       excellent\n",
              "3       excellent\n",
              "4       excellent\n",
              "          ...    \n",
              "8030    excellent\n",
              "8031    excellent\n",
              "8032         Good\n",
              "8033    excellent\n",
              "8034         Good\n",
              "Name: Education, Length: 8035, dtype: category\n",
              "Categories (4, object): ['Low' < 'fair' < 'Good' < 'excellent']"
            ]
          },
          "metadata": {}
        },
        {
          "output_type": "display_data",
          "data": {
            "text/plain": [
              "excellent    2126\n",
              "Low          1997\n",
              "fair         1993\n",
              "Good         1887\n",
              "Name: Education, dtype: int64"
            ]
          },
          "metadata": {}
        }
      ]
    },
    {
      "cell_type": "code",
      "source": [
        "#Poverty \n",
        "bins = [0,16.3,27.8,44.2,100]\n",
        "data['Poverty'] = pd.cut(data['Poverty'],bins, labels=['Low','fair','Good','excellent'])\n",
        "display(data['Poverty'])\n",
        "display(pd.value_counts(data['Poverty']))"
      ],
      "metadata": {
        "colab": {
          "base_uri": "https://localhost:8080/",
          "height": 341
        },
        "id": "e1k9PMMhmpvq",
        "outputId": "520aa772-8e81-42a4-e03b-d6a8a602a731"
      },
      "execution_count": null,
      "outputs": [
        {
          "output_type": "display_data",
          "data": {
            "text/plain": [
              "0       excellent\n",
              "1       excellent\n",
              "2       excellent\n",
              "3            Good\n",
              "4       excellent\n",
              "          ...    \n",
              "8030    excellent\n",
              "8031         Good\n",
              "8032         fair\n",
              "8033    excellent\n",
              "8034         fair\n",
              "Name: Poverty, Length: 8035, dtype: category\n",
              "Categories (4, object): ['Low' < 'fair' < 'Good' < 'excellent']"
            ]
          },
          "metadata": {}
        },
        {
          "output_type": "display_data",
          "data": {
            "text/plain": [
              "Low          2014\n",
              "fair         2010\n",
              "Good         2008\n",
              "excellent    2001\n",
              "Name: Poverty, dtype: int64"
            ]
          },
          "metadata": {}
        }
      ]
    },
    {
      "cell_type": "code",
      "source": [
        "# Unemployment\n",
        "bins = [0,3.7,5.5,7.9,43.9]\n",
        "data['Unemployment'] = pd.cut(data['Unemployment'],bins, labels=['Low','fair','Good','excellent'])\n",
        "display(data['Unemployment'])\n",
        "display(pd.value_counts(data['Unemployment']))"
      ],
      "metadata": {
        "colab": {
          "base_uri": "https://localhost:8080/",
          "height": 341
        },
        "id": "-1Z1bRTymp4W",
        "outputId": "d2f7923c-8891-40a9-baee-be02296a7abe"
      },
      "execution_count": null,
      "outputs": [
        {
          "output_type": "display_data",
          "data": {
            "text/plain": [
              "0       excellent\n",
              "1            Good\n",
              "2       excellent\n",
              "3            Good\n",
              "4            Good\n",
              "          ...    \n",
              "8030    excellent\n",
              "8031         Good\n",
              "8032         Good\n",
              "8033         Good\n",
              "8034         Good\n",
              "Name: Unemployment, Length: 8035, dtype: category\n",
              "Categories (4, object): ['Low' < 'fair' < 'Good' < 'excellent']"
            ]
          },
          "metadata": {}
        },
        {
          "output_type": "display_data",
          "data": {
            "text/plain": [
              "Low          2100\n",
              "excellent    2004\n",
              "fair         1962\n",
              "Good         1936\n",
              "Name: Unemployment, dtype: int64"
            ]
          },
          "metadata": {}
        }
      ]
    },
    {
      "cell_type": "code",
      "source": [
        ""
      ],
      "metadata": {
        "id": "o7MMc8rhmvrv"
      },
      "execution_count": null,
      "outputs": []
    },
    {
      "cell_type": "code",
      "source": [
        "X = data[feature_col]\n",
        "y=data.label\n",
        "X_train, X_test, y_train, y_test = train_test_split(X,y,test_size = 0.3, random_state = 1) # 70% training and 30% testing"
      ],
      "metadata": {
        "id": "Kup8hxNpm8EB"
      },
      "execution_count": null,
      "outputs": []
    },
    {
      "cell_type": "code",
      "source": [
        ""
      ],
      "metadata": {
        "id": "rvaKuOCV0NFq"
      },
      "execution_count": null,
      "outputs": []
    },
    {
      "cell_type": "code",
      "source": [
        "encoder = OrdinalEncoder(cols = ['CES 4.0 Score','Ozone', 'PM2.5','Diesel PM',\n",
        "                'Drinking Water','Pesticides','Tox. Release',\n",
        "               'Traffic','Groundwater Threats','Imp. Water Bodies',\n",
        "               'Solid Waste', 'Education','Poverty', 'Unemployment'], \n",
        "                         handle_unknown = 'value', \n",
        "                         handle_missing = 'value').fit(X_train,y_train) #transform the type of variables from object to float\n",
        "X_train = encoder.transform(X_train) #transform the tranning data set\n",
        "X_test = encoder.transform(X_test)# transform the testing data set"
      ],
      "metadata": {
        "id": "rANO85O_nB9P"
      },
      "execution_count": null,
      "outputs": []
    },
    {
      "cell_type": "code",
      "source": [
        "results=[] #create an empty list, so we can append our accuracy value later\n",
        "n_estimator_options = [25,50,75,100,125,150,175,200,225,250,275,300,325,350,375,400,425,450,475,500]\n",
        "for trees in n_estimator_options:\n",
        "    model = XGBClassifier(n_estimators = trees, random_state = 101) #create a XGB model\n",
        "    model.fit(X_train, y_train)\n",
        "    y_pred = model.predict(X_test) #find the model's predict value\n",
        "    accuracy = np.mean(y_test==y_pred) #Compare the test value and predict value, find the accuracy\n",
        "    results.append(accuracy) # put the value of accuracy to the empty  list\n",
        "    \n",
        "plt.figure(figsize=(8,4))\n",
        "pd.Series(results, n_estimator_options).plot(color='darkred',marker ='o')"
      ],
      "metadata": {
        "colab": {
          "base_uri": "https://localhost:8080/",
          "height": 283
        },
        "id": "wT-ExD-1nFdo",
        "outputId": "f3c42404-86b0-40c9-fc40-d4aaa6436c35"
      },
      "execution_count": null,
      "outputs": [
        {
          "output_type": "execute_result",
          "data": {
            "text/plain": [
              "<matplotlib.axes._subplots.AxesSubplot at 0x7fc715b80e90>"
            ]
          },
          "metadata": {},
          "execution_count": 26
        },
        {
          "output_type": "display_data",
          "data": {
            "text/plain": [
              "<Figure size 576x288 with 1 Axes>"
            ],
            "image/png": "[encoded data removed]"
          },
          "metadata": {
            "needs_background": "light"
          }
        }
      ]
    },
    {
      "cell_type": "code",
      "source": [
        ""
      ],
      "metadata": {
        "id": "6YMTlyygpCl3"
      },
      "execution_count": null,
      "outputs": []
    },
    {
      "cell_type": "code",
      "source": [
        "display(print(confusion_matrix(y_test, y_pred))) # confusion matrix\n",
        "display(print(classification_report(y_test, y_pred))) #show  precision ,recall,  f1-score,  support"
      ],
      "metadata": {
        "colab": {
          "base_uri": "https://localhost:8080/",
          "height": 251
        },
        "id": "NgBKfzmjnKT7",
        "outputId": "8c550a88-ab9a-47b6-ce80-87210022eac8"
      },
      "execution_count": null,
      "outputs": [
        {
          "output_type": "stream",
          "name": "stdout",
          "text": [
            "[[1651  148]\n",
            " [ 259  353]]\n"
          ]
        },
        {
          "output_type": "display_data",
          "data": {
            "text/plain": [
              "None"
            ]
          },
          "metadata": {}
        },
        {
          "output_type": "stream",
          "name": "stdout",
          "text": [
            "              precision    recall  f1-score   support\n",
            "\n",
            "           0       0.86      0.92      0.89      1799\n",
            "           1       0.70      0.58      0.63       612\n",
            "\n",
            "    accuracy                           0.83      2411\n",
            "   macro avg       0.78      0.75      0.76      2411\n",
            "weighted avg       0.82      0.83      0.83      2411\n",
            "\n"
          ]
        },
        {
          "output_type": "display_data",
          "data": {
            "text/plain": [
              "None"
            ]
          },
          "metadata": {}
        }
      ]
    },
    {
      "cell_type": "code",
      "source": [
        "smo = SMOTE(random_state=42)\n",
        "X_train, y_train = smo.fit_resample(X_train,y_train)"
      ],
      "metadata": {
        "id": "n0voEUN-oVAJ"
      },
      "execution_count": null,
      "outputs": []
    },
    {
      "cell_type": "code",
      "source": [
        "\n",
        "print(Counter(y_train))"
      ],
      "metadata": {
        "colab": {
          "base_uri": "https://localhost:8080/"
        },
        "id": "o3KGOeoCo7gH",
        "outputId": "9aea0788-8a5e-4bc7-a176-3dec44eae4cd"
      },
      "execution_count": null,
      "outputs": [
        {
          "output_type": "stream",
          "name": "stdout",
          "text": [
            "Counter({0: 4226, 1: 4226})\n"
          ]
        }
      ]
    },
    {
      "cell_type": "code",
      "source": [
        "results=[] #create an empty list, so we can append our accuracy value later\n",
        "n_estimator_options = [25,50,75,100,125,150,175,200,225,250,275,300,325,350,375,400,425,450,475,500]\n",
        "for trees in n_estimator_options:\n",
        "    model = XGBClassifier(n_estimators = trees, random_state = 101) #create a XGB model\n",
        "    model.fit(X_train, y_train)\n",
        "    y_pred = model.predict(X_test) #find the model's predict value\n",
        "    accuracy = np.mean(y_test==y_pred) #Compare the test value and predict value, find the accuracy\n",
        "    results.append(accuracy) # put the value of accuracy to the empty  list\n",
        "    \n",
        "plt.figure(figsize=(8,4))\n",
        "pd.Series(results, n_estimator_options).plot(color='darkred',marker ='o')"
      ],
      "metadata": {
        "colab": {
          "base_uri": "https://localhost:8080/",
          "height": 283
        },
        "id": "RVNdIZGxpDtX",
        "outputId": "645b2161-5da9-4b5c-e622-3175fdcb6c60"
      },
      "execution_count": null,
      "outputs": [
        {
          "output_type": "execute_result",
          "data": {
            "text/plain": [
              "<matplotlib.axes._subplots.AxesSubplot at 0x7fc71636e850>"
            ]
          },
          "metadata": {},
          "execution_count": 30
        },
        {
          "output_type": "display_data",
          "data": {
            "text/plain": [
              "<Figure size 576x288 with 1 Axes>"
            ],
            "image/png": "[encoded data removed]"
          },
          "metadata": {
            "needs_background": "light"
          }
        }
      ]
    },
    {
      "cell_type": "code",
      "source": [
        "display(print(confusion_matrix(y_test, y_pred))) # confusion matrix\n",
        "display(print(classification_report(y_test, y_pred))) #show  precision ,recall,  f1-score,  support"
      ],
      "metadata": {
        "colab": {
          "base_uri": "https://localhost:8080/",
          "height": 251
        },
        "id": "Z6S2tA4mpLWk",
        "outputId": "96022802-196d-4e89-d713-d2316b998092"
      },
      "execution_count": null,
      "outputs": [
        {
          "output_type": "stream",
          "name": "stdout",
          "text": [
            "[[1434  365]\n",
            " [ 119  493]]\n"
          ]
        },
        {
          "output_type": "display_data",
          "data": {
            "text/plain": [
              "None"
            ]
          },
          "metadata": {}
        },
        {
          "output_type": "stream",
          "name": "stdout",
          "text": [
            "              precision    recall  f1-score   support\n",
            "\n",
            "           0       0.92      0.80      0.86      1799\n",
            "           1       0.57      0.81      0.67       612\n",
            "\n",
            "    accuracy                           0.80      2411\n",
            "   macro avg       0.75      0.80      0.76      2411\n",
            "weighted avg       0.83      0.80      0.81      2411\n",
            "\n"
          ]
        },
        {
          "output_type": "display_data",
          "data": {
            "text/plain": [
              "None"
            ]
          },
          "metadata": {}
        }
      ]
    },
    {
      "cell_type": "code",
      "source": [
        "model = XGBClassifier(n_estimators = 375, random_state = 101)                            #XGB\n",
        "model.fit(X_train, y_train)\n",
        "y_pred = model.predict(X_test)\n",
        "y_pred2 = model.predict(X_train)\n",
        "\n",
        "\n",
        "auc_score1 = roc_auc_score(y_test, y_pred)\n",
        "display(print('Auc in test set: ',auc_score1))\n",
        "\n",
        "auc_score2 = roc_auc_score(y_train, y_pred2)\n",
        "display(print('Auc in train set: ',auc_score2))"
      ],
      "metadata": {
        "colab": {
          "base_uri": "https://localhost:8080/",
          "height": 89
        },
        "id": "ah0ra3qxp4Cq",
        "outputId": "241d5353-771f-497a-ec35-6f89ff730b92"
      },
      "execution_count": null,
      "outputs": [
        {
          "output_type": "stream",
          "name": "stdout",
          "text": [
            "Auc in test set:  0.8048448302797125\n"
          ]
        },
        {
          "output_type": "display_data",
          "data": {
            "text/plain": [
              "None"
            ]
          },
          "metadata": {}
        },
        {
          "output_type": "stream",
          "name": "stdout",
          "text": [
            "Auc in train set:  0.842640795078088\n"
          ]
        },
        {
          "output_type": "display_data",
          "data": {
            "text/plain": [
              "None"
            ]
          },
          "metadata": {}
        }
      ]
    },
    {
      "cell_type": "code",
      "source": [
        "display(print('Accuracy is:',accuracy))\n",
        "#display(print(classification_report(y_test, y_pred)))\n",
        "#define metrics\n",
        "y_pred_proba = model.predict_proba(X_test)[::,1]\n",
        "fpr, tpr, _ = metrics.roc_curve(y_test,  y_pred_proba)\n",
        "#auc = metrics.roc_auc_score(y_test, y_pred_proba)\n",
        "auc = roc_auc_score(y_test, y_pred)\n",
        "#display(print('Auc is:',auc))\n",
        "#create ROC curve\n",
        "plt.plot(fpr,tpr,label=\"AUC=\"+str(auc))\n",
        "plt.ylabel('True Positive Rate')\n",
        "plt.xlabel('False Positive Rate')\n",
        "plt.legend(loc=4)\n",
        "plt.show()"
      ],
      "metadata": {
        "colab": {
          "base_uri": "https://localhost:8080/",
          "height": 315
        },
        "id": "HQuTQFUJcRb1",
        "outputId": "a9dc8237-d1ca-4fa8-ec53-b6980e9aced2"
      },
      "execution_count": null,
      "outputs": [
        {
          "output_type": "stream",
          "name": "stdout",
          "text": [
            "Accuracy is: 0.7992534218166736\n"
          ]
        },
        {
          "output_type": "display_data",
          "data": {
            "text/plain": [
              "None"
            ]
          },
          "metadata": {}
        },
        {
          "output_type": "display_data",
          "data": {
            "text/plain": [
              "<Figure size 432x288 with 1 Axes>"
            ],
            "image/png": "[encoded data removed]"
          },
          "metadata": {
            "needs_background": "light"
          }
        }
      ]
    },
    {
      "cell_type": "code",
      "source": [
        "plot_importance(model)\n",
        "plt.show()"
      ],
      "metadata": {
        "colab": {
          "base_uri": "https://localhost:8080/",
          "height": 295
        },
        "id": "rd0mF-k1za-B",
        "outputId": "662d940c-ccd0-4e74-8737-b51b7ff4823e"
      },
      "execution_count": null,
      "outputs": [
        {
          "output_type": "display_data",
          "data": {
            "text/plain": [
              "<Figure size 432x288 with 1 Axes>"
            ],
            "image/png": "[encoded data removed]"
          },
          "metadata": {
            "needs_background": "light"
          }
        }
      ]
    },
    {
      "cell_type": "code",
      "source": [
        ""
      ],
      "metadata": {
        "id": "yRbSVWEOe4bA"
      },
      "execution_count": null,
      "outputs": []
    },
    {
      "cell_type": "code",
      "source": [
        "feature_col = ['CES 4.0 Score','Ozone','Diesel PM',\n",
        "                'Drinking Water','Tox. Release',\n",
        "               'Traffic','Groundwater Threats','Imp. Water Bodies',\n",
        "               'Solid Waste', 'Education', 'Unemployment']"
      ],
      "metadata": {
        "id": "eVm5QQq-0AYO"
      },
      "execution_count": null,
      "outputs": []
    },
    {
      "cell_type": "code",
      "source": [
        "X = data[feature_col]\n",
        "y=data.label\n",
        "X_train, X_test, y_train, y_test = train_test_split(X,y,test_size = 0.3, random_state = 1) # 70% training and 30% testing"
      ],
      "metadata": {
        "id": "AlYe8bIk0Ofn"
      },
      "execution_count": null,
      "outputs": []
    },
    {
      "cell_type": "code",
      "source": [
        "encoder = OrdinalEncoder(cols = ['CES 4.0 Score','Ozone', 'Diesel PM',\n",
        "                'Drinking Water','Tox. Release',\n",
        "               'Traffic','Groundwater Threats','Imp. Water Bodies',\n",
        "               'Solid Waste', 'Education', 'Unemployment'], \n",
        "                         handle_unknown = 'value', \n",
        "                         handle_missing = 'value').fit(X_train,y_train) #transform the type of variables from object to float\n",
        "X_train = encoder.transform(X_train) #transform the tranning data set\n",
        "X_test = encoder.transform(X_test)# transform the testing data set"
      ],
      "metadata": {
        "id": "zgN3AvYf0bHv"
      },
      "execution_count": null,
      "outputs": []
    },
    {
      "cell_type": "code",
      "source": [
        "smo = SMOTE(random_state=42)\n",
        "X_train, y_train = smo.fit_resample(X_train,y_train)"
      ],
      "metadata": {
        "id": "P5pZiT2H0mEg"
      },
      "execution_count": null,
      "outputs": []
    },
    {
      "cell_type": "code",
      "source": [
        "results=[] #create an empty list, so we can append our accuracy value later\n",
        "n_estimator_options = [25,50,75,100,125,150,175,200,225,250,275,300,325,350,375,400,425,450,475,500]\n",
        "for trees in n_estimator_options:\n",
        "    model = XGBClassifier(n_estimators = trees, random_state = 101) #create a XGB model\n",
        "    model.fit(X_train, y_train)\n",
        "    y_pred = model.predict(X_test) #find the model's predict value\n",
        "    accuracy = np.mean(y_test==y_pred) #Compare the test value and predict value, find the accuracy\n",
        "    results.append(accuracy) # put the value of accuracy to the empty  list\n",
        "    \n",
        "plt.figure(figsize=(8,4))\n",
        "pd.Series(results, n_estimator_options).plot(color='darkred',marker ='o')"
      ],
      "metadata": {
        "colab": {
          "base_uri": "https://localhost:8080/",
          "height": 283
        },
        "id": "D2lRYLXl0nMa",
        "outputId": "d045225f-f4dc-4c9c-9968-4fd7074a5c23"
      },
      "execution_count": null,
      "outputs": [
        {
          "output_type": "execute_result",
          "data": {
            "text/plain": [
              "<matplotlib.axes._subplots.AxesSubplot at 0x7f2f63a031d0>"
            ]
          },
          "metadata": {},
          "execution_count": 85
        },
        {
          "output_type": "display_data",
          "data": {
            "text/plain": [
              "<Figure size 576x288 with 1 Axes>"
            ],
            "image/png": "[encoded data removed]"
          },
          "metadata": {
            "needs_background": "light"
          }
        }
      ]
    },
    {
      "cell_type": "code",
      "source": [
        "model = XGBClassifier(n_estimators = 400, random_state = 101)                            #XGB\n",
        "model.fit(X_train, y_train)\n",
        "y_pred = model.predict(X_test)\n",
        "y_pred2 = model.predict(X_train)\n",
        "\n",
        "\n",
        "auc_score1 = roc_auc_score(y_test, y_pred)\n",
        "display(print('Auc in test set: ',auc_score1))\n",
        "\n",
        "auc_score2 = roc_auc_score(y_train, y_pred2)\n",
        "display(print('Auc in train set: ',auc_score2))"
      ],
      "metadata": {
        "colab": {
          "base_uri": "https://localhost:8080/",
          "height": 89
        },
        "id": "PK2cQndW0sJX",
        "outputId": "3512e4ac-4d02-4650-db16-7e740515c58f"
      },
      "execution_count": null,
      "outputs": [
        {
          "output_type": "stream",
          "name": "stdout",
          "text": [
            "Auc in test set:  0.8012821211493677\n"
          ]
        },
        {
          "output_type": "display_data",
          "data": {
            "text/plain": [
              "None"
            ]
          },
          "metadata": {}
        },
        {
          "output_type": "stream",
          "name": "stdout",
          "text": [
            "Auc in train set:  0.83719829626124\n"
          ]
        },
        {
          "output_type": "display_data",
          "data": {
            "text/plain": [
              "None"
            ]
          },
          "metadata": {}
        }
      ]
    },
    {
      "cell_type": "code",
      "source": [
        "display(print(confusion_matrix(y_test, y_pred))) # confusion matrix\n",
        "display(print(classification_report(y_test, y_pred))) #show  precision ,recall,  f1-score,  support\n",
        "display(print('Auc is: ',auc_score1))\n",
        "display(print('Accuracy is:',accuracy))"
      ],
      "metadata": {
        "colab": {
          "base_uri": "https://localhost:8080/",
          "height": 323
        },
        "id": "OUfOhN6O1Znn",
        "outputId": "1657ae28-9952-4ada-e2cb-6a50e5021c0c"
      },
      "execution_count": null,
      "outputs": [
        {
          "output_type": "stream",
          "name": "stdout",
          "text": [
            "[[1425  374]\n",
            " [ 116  496]]\n"
          ]
        },
        {
          "output_type": "display_data",
          "data": {
            "text/plain": [
              "None"
            ]
          },
          "metadata": {}
        },
        {
          "output_type": "stream",
          "name": "stdout",
          "text": [
            "              precision    recall  f1-score   support\n",
            "\n",
            "           0       0.92      0.79      0.85      1799\n",
            "           1       0.57      0.81      0.67       612\n",
            "\n",
            "    accuracy                           0.80      2411\n",
            "   macro avg       0.75      0.80      0.76      2411\n",
            "weighted avg       0.83      0.80      0.81      2411\n",
            "\n"
          ]
        },
        {
          "output_type": "display_data",
          "data": {
            "text/plain": [
              "None"
            ]
          },
          "metadata": {}
        },
        {
          "output_type": "stream",
          "name": "stdout",
          "text": [
            "Auc is:  0.8012821211493677\n"
          ]
        },
        {
          "output_type": "display_data",
          "data": {
            "text/plain": [
              "None"
            ]
          },
          "metadata": {}
        },
        {
          "output_type": "stream",
          "name": "stdout",
          "text": [
            "Accuracy is: 0.7946909995852344\n"
          ]
        },
        {
          "output_type": "display_data",
          "data": {
            "text/plain": [
              "None"
            ]
          },
          "metadata": {}
        }
      ]
    },
    {
      "cell_type": "code",
      "source": [
        "\n"
      ],
      "metadata": {
        "id": "GLpofay4mhuv"
      },
      "execution_count": null,
      "outputs": []
    },
    {
      "cell_type": "code",
      "source": [
        ""
      ],
      "metadata": {
        "id": "ShYTygeHnOXi"
      },
      "execution_count": null,
      "outputs": []
    }
  ]
}